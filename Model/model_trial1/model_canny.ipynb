{
 "cells": [
  {
   "cell_type": "code",
   "execution_count": 1,
   "metadata": {},
   "outputs": [],
   "source": [
    "import os\n",
    "import pandas as pd\n",
    "import numpy as np\n",
    "import tensorflow as tf\n",
    "import matplotlib.pyplot as plt\n",
    "from sklearn.model_selection import train_test_split\n",
    "from keras.models import Sequential\n",
    "from tensorflow.keras.optimizers import Adam\n",
    "from keras.preprocessing.image import ImageDataGenerator\n",
    "from keras.layers import Conv2D, MaxPool2D, Flatten, Dropout,Dense,ReLU,Softmax"
   ]
  },
  {
   "cell_type": "code",
   "execution_count": 2,
   "metadata": {},
   "outputs": [
    {
     "data": {
      "text/html": [
       "<div>\n",
       "<style scoped>\n",
       "    .dataframe tbody tr th:only-of-type {\n",
       "        vertical-align: middle;\n",
       "    }\n",
       "\n",
       "    .dataframe tbody tr th {\n",
       "        vertical-align: top;\n",
       "    }\n",
       "\n",
       "    .dataframe thead th {\n",
       "        text-align: right;\n",
       "    }\n",
       "</style>\n",
       "<table border=\"1\" class=\"dataframe\">\n",
       "  <thead>\n",
       "    <tr style=\"text-align: right;\">\n",
       "      <th></th>\n",
       "      <th>file_paths</th>\n",
       "      <th>labels</th>\n",
       "    </tr>\n",
       "  </thead>\n",
       "  <tbody>\n",
       "    <tr>\n",
       "      <th>0</th>\n",
       "      <td>D:/Final Year Project/Express-U/data/preproces...</td>\n",
       "      <td>1</td>\n",
       "    </tr>\n",
       "    <tr>\n",
       "      <th>1</th>\n",
       "      <td>D:/Final Year Project/Express-U/data/preproces...</td>\n",
       "      <td>1</td>\n",
       "    </tr>\n",
       "    <tr>\n",
       "      <th>2</th>\n",
       "      <td>D:/Final Year Project/Express-U/data/preproces...</td>\n",
       "      <td>1</td>\n",
       "    </tr>\n",
       "    <tr>\n",
       "      <th>3</th>\n",
       "      <td>D:/Final Year Project/Express-U/data/preproces...</td>\n",
       "      <td>1</td>\n",
       "    </tr>\n",
       "    <tr>\n",
       "      <th>4</th>\n",
       "      <td>D:/Final Year Project/Express-U/data/preproces...</td>\n",
       "      <td>1</td>\n",
       "    </tr>\n",
       "    <tr>\n",
       "      <th>...</th>\n",
       "      <td>...</td>\n",
       "      <td>...</td>\n",
       "    </tr>\n",
       "    <tr>\n",
       "      <th>41995</th>\n",
       "      <td>D:/Final Year Project/Express-U/data/preproces...</td>\n",
       "      <td>Z</td>\n",
       "    </tr>\n",
       "    <tr>\n",
       "      <th>41996</th>\n",
       "      <td>D:/Final Year Project/Express-U/data/preproces...</td>\n",
       "      <td>Z</td>\n",
       "    </tr>\n",
       "    <tr>\n",
       "      <th>41997</th>\n",
       "      <td>D:/Final Year Project/Express-U/data/preproces...</td>\n",
       "      <td>Z</td>\n",
       "    </tr>\n",
       "    <tr>\n",
       "      <th>41998</th>\n",
       "      <td>D:/Final Year Project/Express-U/data/preproces...</td>\n",
       "      <td>Z</td>\n",
       "    </tr>\n",
       "    <tr>\n",
       "      <th>41999</th>\n",
       "      <td>D:/Final Year Project/Express-U/data/preproces...</td>\n",
       "      <td>Z</td>\n",
       "    </tr>\n",
       "  </tbody>\n",
       "</table>\n",
       "<p>42000 rows × 2 columns</p>\n",
       "</div>"
      ],
      "text/plain": [
       "                                              file_paths labels\n",
       "0      D:/Final Year Project/Express-U/data/preproces...      1\n",
       "1      D:/Final Year Project/Express-U/data/preproces...      1\n",
       "2      D:/Final Year Project/Express-U/data/preproces...      1\n",
       "3      D:/Final Year Project/Express-U/data/preproces...      1\n",
       "4      D:/Final Year Project/Express-U/data/preproces...      1\n",
       "...                                                  ...    ...\n",
       "41995  D:/Final Year Project/Express-U/data/preproces...      Z\n",
       "41996  D:/Final Year Project/Express-U/data/preproces...      Z\n",
       "41997  D:/Final Year Project/Express-U/data/preproces...      Z\n",
       "41998  D:/Final Year Project/Express-U/data/preproces...      Z\n",
       "41999  D:/Final Year Project/Express-U/data/preproces...      Z\n",
       "\n",
       "[42000 rows x 2 columns]"
      ]
     },
     "execution_count": 2,
     "metadata": {},
     "output_type": "execute_result"
    }
   ],
   "source": [
    "df = pd.read_csv('D:/Final Year Project/Express-U/data/preprocessed/canny_labels.csv',index_col=False)\n",
    "df"
   ]
  },
  {
   "cell_type": "code",
   "execution_count": 3,
   "metadata": {},
   "outputs": [],
   "source": [
    "X_Train,X_Test = train_test_split(df,train_size=0.8,random_state=42,shuffle=True)"
   ]
  },
  {
   "cell_type": "code",
   "execution_count": 4,
   "metadata": {},
   "outputs": [
    {
     "name": "stdout",
     "output_type": "stream",
     "text": [
      "(33600, 2)\n",
      "(8400, 2)\n"
     ]
    }
   ],
   "source": [
    "print(X_Train.shape)\n",
    "print(X_Test.shape)"
   ]
  },
  {
   "cell_type": "code",
   "execution_count": 5,
   "metadata": {},
   "outputs": [],
   "source": [
    "Train_image_generator = ImageDataGenerator(rescale=1/255,\n",
    "                                        zoom_range=0.5,\n",
    "                                        brightness_range=[0.6,1.0],\n",
    "                                        rotation_range=20,\n",
    "                                        validation_split=0.1)\n",
    "Validation_image_generator = ImageDataGenerator(rescale=1/255)"
   ]
  },
  {
   "cell_type": "code",
   "execution_count": 6,
   "metadata": {},
   "outputs": [
    {
     "name": "stdout",
     "output_type": "stream",
     "text": [
      "Found 30240 validated image filenames belonging to 35 classes.\n",
      "Found 8400 validated image filenames belonging to 35 classes.\n"
     ]
    }
   ],
   "source": [
    "Train_Set = Train_image_generator.flow_from_dataframe(dataframe=X_Train,\n",
    "                                                   x_col=\"file_paths\",\n",
    "                                                   y_col=\"labels\",\n",
    "                                                   batch_size=32,\n",
    "                                                   class_mode=\"categorical\",\n",
    "                                                   color_mode=\"grayscale\",\n",
    "                                                   subset=\"training\")\n",
    "\n",
    "Validation_Set = Validation_image_generator.flow_from_dataframe(dataframe=X_Test,\n",
    "                                                   x_col=\"file_paths\",\n",
    "                                                   y_col=\"labels\",\n",
    "                                                   batch_size=32,\n",
    "                                                   class_mode=\"categorical\",\n",
    "                                                   color_mode=\"grayscale\",\n",
    "                                                   shuffle=False)"
   ]
  },
  {
   "cell_type": "code",
   "execution_count": 7,
   "metadata": {},
   "outputs": [],
   "source": [
    "inputshape = (256,256,1)\n",
    "outputshape = 35\n",
    "\n",
    "model = Sequential()\n",
    "model.add(Conv2D(input_shape=inputshape,filters=64,kernel_size=(3,3),padding=\"same\", activation=\"relu\"))\n",
    "model.add(Conv2D(filters=64,kernel_size=(3,3),padding=\"same\", activation=\"relu\"))\n",
    "model.add(MaxPool2D(pool_size=(2,2),strides=(2,2)))\n",
    "model.add(Conv2D(filters=128, kernel_size=(3,3), padding=\"same\", activation=\"relu\"))\n",
    "model.add(Conv2D(filters=128, kernel_size=(3,3), padding=\"same\", activation=\"relu\"))\n",
    "model.add(MaxPool2D(pool_size=(2,2),strides=(2,2)))\n",
    "\n",
    "model.add(Flatten())\n",
    "model.add(Dense(128,activation=\"relu\"))\n",
    "model.add(Dense(64,activation=\"relu\"))\n",
    "model.add(Dense(outputshape,activation=\"softmax\"))\n"
   ]
  },
  {
   "cell_type": "code",
   "execution_count": 8,
   "metadata": {},
   "outputs": [
    {
     "name": "stdout",
     "output_type": "stream",
     "text": [
      "Model: \"sequential\"\n",
      "_________________________________________________________________\n",
      " Layer (type)                Output Shape              Param #   \n",
      "=================================================================\n",
      " conv2d (Conv2D)             (None, 256, 256, 64)      640       \n",
      "                                                                 \n",
      " conv2d_1 (Conv2D)           (None, 256, 256, 64)      36928     \n",
      "                                                                 \n",
      " max_pooling2d (MaxPooling2D  (None, 128, 128, 64)     0         \n",
      " )                                                               \n",
      "                                                                 \n",
      " conv2d_2 (Conv2D)           (None, 128, 128, 128)     73856     \n",
      "                                                                 \n",
      " conv2d_3 (Conv2D)           (None, 128, 128, 128)     147584    \n",
      "                                                                 \n",
      " max_pooling2d_1 (MaxPooling  (None, 64, 64, 128)      0         \n",
      " 2D)                                                             \n",
      "                                                                 \n",
      " flatten (Flatten)           (None, 524288)            0         \n",
      "                                                                 \n",
      " dense (Dense)               (None, 128)               67108992  \n",
      "                                                                 \n",
      " dense_1 (Dense)             (None, 64)                8256      \n",
      "                                                                 \n",
      " dense_2 (Dense)             (None, 35)                2275      \n",
      "                                                                 \n",
      "=================================================================\n",
      "Total params: 67,378,531\n",
      "Trainable params: 67,378,531\n",
      "Non-trainable params: 0\n",
      "_________________________________________________________________\n"
     ]
    }
   ],
   "source": [
    "model.summary()"
   ]
  },
  {
   "cell_type": "code",
   "execution_count": 9,
   "metadata": {},
   "outputs": [],
   "source": [
    "lr=0.001\n",
    "model.compile(loss='categorical_crossentropy', optimizer=Adam(learning_rate=lr), metrics=['accuracy'])"
   ]
  },
  {
   "cell_type": "code",
   "execution_count": null,
   "metadata": {},
   "outputs": [
    {
     "name": "stdout",
     "output_type": "stream",
     "text": [
      "Epoch 1/10\n"
     ]
    }
   ],
   "source": [
    "history = model.fit(Train_Set,epochs=10,batch_size=40,verbose=1,validation_data=Validation_Set)"
   ]
  },
  {
   "cell_type": "code",
   "execution_count": null,
   "metadata": {},
   "outputs": [],
   "source": []
  },
  {
   "cell_type": "code",
   "execution_count": null,
   "metadata": {},
   "outputs": [],
   "source": []
  },
  {
   "cell_type": "code",
   "execution_count": null,
   "metadata": {},
   "outputs": [],
   "source": []
  }
 ],
 "metadata": {
  "interpreter": {
   "hash": "a8a3b870b663af00ffaf2965646e614892b3bc390a9f2eaaf38e9628c0376dcf"
  },
  "kernelspec": {
   "display_name": "Python 3",
   "language": "python",
   "name": "python3"
  },
  "language_info": {
   "codemirror_mode": {
    "name": "ipython",
    "version": 3
   },
   "file_extension": ".py",
   "mimetype": "text/x-python",
   "name": "python",
   "nbconvert_exporter": "python",
   "pygments_lexer": "ipython3",
   "version": "3.8.8"
  }
 },
 "nbformat": 4,
 "nbformat_minor": 2
}
