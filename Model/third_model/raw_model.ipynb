{
 "cells": [
  {
   "cell_type": "code",
   "execution_count": 2,
   "metadata": {},
   "outputs": [],
   "source": [
    "import cv2\n",
    "import numpy as np\n",
    "import os\n",
    "from matplotlib import pyplot as plt\n",
    "import time\n",
    "import mediapipe as mp"
   ]
  },
  {
   "cell_type": "code",
   "execution_count": 3,
   "metadata": {},
   "outputs": [],
   "source": [
    "mp_holistic = mp.solutions.holistic\n",
    "mp_drawing = mp.solutions.drawing_utils"
   ]
  },
  {
   "cell_type": "code",
   "execution_count": 4,
   "metadata": {},
   "outputs": [],
   "source": [
    "def mediapipe_detection(image,model):\n",
    "  image = cv2.cvtColor(image,cv2.COLOR_BGR2RGB)\n",
    "  image.flags.writeable = False\n",
    "  results = model.process(image)\n",
    "  image.flags.writeable = True\n",
    "  image = cv2.cvtColor(image,cv2.COLOR_RGB2BGR)\n",
    "  return image,results"
   ]
  },
  {
   "cell_type": "code",
   "execution_count": 5,
   "metadata": {},
   "outputs": [],
   "source": [
    "def draw_landmarks(image,results):\n",
    "  mp_drawing.draw_landmarks(image,results.face_landmarks,mp_holistic.FACEMESH_CONTOURS)\n",
    "  mp_drawing.draw_landmarks(image,results.pose_landmarks,mp_holistic.POSE_CONNECTIONS)\n",
    "  mp_drawing.draw_landmarks(image,results.left_hand_landmarks,mp_holistic.HAND_CONNECTIONS)\n",
    "  mp_drawing.draw_landmarks(image,results.right_hand_landmarks,mp_holistic.HAND_CONNECTIONS)"
   ]
  },
  {
   "cell_type": "code",
   "execution_count": 6,
   "metadata": {},
   "outputs": [],
   "source": [
    "def draw_styled_landmarks(image,results):\n",
    "  mp_drawing.draw_landmarks(image,results.face_landmarks,mp_holistic.FACEMESH_CONTOURS,\n",
    "                            mp_drawing.DrawingSpec(color=(80,110,10),thickness=1,circle_radius=1),\n",
    "                            mp_drawing.DrawingSpec(color=(80,256,121),thickness=1,circle_radius=1)\n",
    "                            )\n",
    "\n",
    "  mp_drawing.draw_landmarks(image,results.pose_landmarks,mp_holistic.POSE_CONNECTIONS,\n",
    "                            mp_drawing.DrawingSpec(color=(80,22,10),thickness=2,circle_radius=4),\n",
    "                            mp_drawing.DrawingSpec(color=(80,44,121),thickness=2,circle_radius=2)\n",
    "                            )\n",
    "\n",
    "  mp_drawing.draw_landmarks(image,results.left_hand_landmarks,mp_holistic.HAND_CONNECTIONS,\n",
    "                            mp_drawing.DrawingSpec(color=(121,22,76),thickness=2,circle_radius=4),\n",
    "                            mp_drawing.DrawingSpec(color=(121,44,250),thickness=2,circle_radius=2)\n",
    "                            )\n",
    "\n",
    "  mp_drawing.draw_landmarks(image,results.right_hand_landmarks,mp_holistic.HAND_CONNECTIONS,\n",
    "                            mp_drawing.DrawingSpec(color=(245,117,66),thickness=2,circle_radius=4),\n",
    "                            mp_drawing.DrawingSpec(color=(245,66,230),thickness=2,circle_radius=2)\n",
    "                            )"
   ]
  },
  {
   "cell_type": "code",
   "execution_count": null,
   "metadata": {},
   "outputs": [],
   "source": [
    "cap = cv2.VideoCapture(0)\n",
    "\n",
    "with mp_holistic.Holistic(min_detection_confidence=0.5,min_tracking_confidence=0.5) as holistic:\n",
    "  while cap.isOpened():\n",
    "    ret,frame  = cap.read()\n",
    "    # frame = cv2.resize(frame,(800,600))\n",
    "\n",
    "    image,results = mediapipe_detection(frame,holistic)\n",
    "\n",
    "    draw_styled_landmarks(image,results)\n",
    "    cv2.imshow('result',cv2.flip(image,1))\n",
    "\n",
    "    if cv2.waitKey(10) & 0xFF == ord('q'):\n",
    "      break\n",
    "  cap.release()\n",
    "  cv2.destroyAllWindows()"
   ]
  },
  {
   "cell_type": "code",
   "execution_count": 9,
   "metadata": {},
   "outputs": [],
   "source": [
    "# plt.imshow(cv2.cvtColor(image,cv2.COLOR_BGR2RGB))"
   ]
  },
  {
   "cell_type": "code",
   "execution_count": 7,
   "metadata": {},
   "outputs": [],
   "source": [
    "def extract_keypoints(results):\n",
    "  pose = np.array([[res.x,res.y,res.z,res.visibility] for res in results.pose_landmarks.landmark]).flatten() if results.pose_landmarks else np.zeros(132)\n",
    "  face = np.array([[res.x,res.y,res.z] for res in results.face_landmarks.landmark]).flatten() if results.face_landmarks else np.zeros(1404)\n",
    "  lh = np.array([[res.x,res.y,res.z] for res in results.left_hand_landmarks.landmark]).flatten() if results.left_hand_landmarks else np.zeros(63)\n",
    "  rh = np.array([[res.x,res.y,res.z] for res in results.right_hand_landmarks.landmark]).flatten() if results.right_hand_landmarks else np.zeros(63)\n",
    "  return np.concatenate([pose,face,lh,rh])"
   ]
  },
  {
   "cell_type": "code",
   "execution_count": 11,
   "metadata": {},
   "outputs": [],
   "source": [
    "# test_result = extract_keypoints(results)[-10:]"
   ]
  },
  {
   "cell_type": "code",
   "execution_count": 12,
   "metadata": {},
   "outputs": [],
   "source": [
    "# np.save('test',test_result)"
   ]
  },
  {
   "cell_type": "code",
   "execution_count": 13,
   "metadata": {},
   "outputs": [],
   "source": [
    "# np.load('test.npy')"
   ]
  },
  {
   "cell_type": "code",
   "execution_count": 8,
   "metadata": {},
   "outputs": [],
   "source": [
    "DATA_PATH = 'D:\\\\Final Year Project\\\\Express-U\\\\data\\\\vid_dataset'\n",
    "\n",
    "actions = np.array(['hello','thanks','iloveyou'])\n",
    "\n",
    "no_of_sequences = 30\n",
    "\n",
    "sequence_length = 30"
   ]
  },
  {
   "cell_type": "markdown",
   "metadata": {},
   "source": [
    "Folder creation for training data"
   ]
  },
  {
   "cell_type": "code",
   "execution_count": 9,
   "metadata": {},
   "outputs": [],
   "source": [
    "for action in actions:\n",
    "  for sequence in range(no_of_sequences):\n",
    "    try:\n",
    "      os.makedirs(os.path.join(DATA_PATH,action,str(sequence)))\n",
    "    except:\n",
    "      pass"
   ]
  },
  {
   "cell_type": "markdown",
   "metadata": {},
   "source": [
    "Collecting Data for training"
   ]
  },
  {
   "cell_type": "code",
   "execution_count": 10,
   "metadata": {},
   "outputs": [],
   "source": [
    "cap = cv2.VideoCapture(0)\n",
    "\n",
    "with mp_holistic.Holistic(min_detection_confidence=0.5,min_tracking_confidence=0.5) as holistic:\n",
    "\n",
    "  for action in actions:\n",
    "    for sequence in range(no_of_sequences):\n",
    "      for frame_num in range(sequence_length):\n",
    "\n",
    "        ret,frame  = cap.read()\n",
    "        image,results = mediapipe_detection(frame,holistic)\n",
    "        draw_styled_landmarks(image,results)\n",
    "\n",
    "        if frame_num == 0:\n",
    "          cv2.putText(image,'STARTING COLLECTION',(120,200),cv2.FONT_HERSHEY_SIMPLEX,\n",
    "                      1,(0,255,0),1,cv2.LINE_AA)\n",
    "\n",
    "          cv2.putText(image,f'collectiong frames for {action} Video Number {sequence}',(15,12),cv2.FONT_HERSHEY_SIMPLEX,\n",
    "                      0.5,(0,0,255),1,cv2.LINE_AA)\n",
    "\n",
    "          cv2.imshow('result',image)\n",
    "\n",
    "\n",
    "          cv2.waitKey(2000)\n",
    "        else:\n",
    "          cv2.putText(image,f'collectiong frames for {action} Video Number {sequence}',(15,12),cv2.FONT_HERSHEY_SIMPLEX,\n",
    "                      0.5,(0,0,255),1,cv2.LINE_AA)\n",
    "\n",
    "          cv2.imshow('result',image)\n",
    "\n",
    "\n",
    "        keypoints = extract_keypoints(results)\n",
    "        npy_path = os.path.join(DATA_PATH,action,str(sequence),str(frame_num))\n",
    "        np.save(npy_path,keypoints)\n",
    "\n",
    "\n",
    "        if cv2.waitKey(10) & 0xFF == ord('q'):\n",
    "          break\n",
    "\n",
    "  cap.release()\n",
    "  cv2.destroyAllWindows()"
   ]
  },
  {
   "cell_type": "code",
   "execution_count": 12,
   "metadata": {},
   "outputs": [],
   "source": [
    "from sklearn.model_selection import train_test_split\n",
    "from tensorflow.keras.utils import to_categorical"
   ]
  },
  {
   "cell_type": "code",
   "execution_count": 13,
   "metadata": {},
   "outputs": [],
   "source": [
    "label_map = {label:num for num,label in enumerate(actions)}"
   ]
  },
  {
   "cell_type": "code",
   "execution_count": 14,
   "metadata": {},
   "outputs": [
    {
     "data": {
      "text/plain": [
       "{'hello': 0, 'thanks': 1, 'iloveyou': 2}"
      ]
     },
     "execution_count": 14,
     "metadata": {},
     "output_type": "execute_result"
    }
   ],
   "source": [
    "label_map"
   ]
  },
  {
   "cell_type": "code",
   "execution_count": 15,
   "metadata": {},
   "outputs": [],
   "source": [
    "sequences,labels = [],[]\n",
    "for action in actions:\n",
    "  for sequence in range(no_of_sequences):\n",
    "    window = []\n",
    "    for frame_num in range(sequence_length):\n",
    "      res = np.load(os.path.join(DATA_PATH,action,str(sequence),f'{frame_num}.npy'))\n",
    "      window.append(res)\n",
    "    sequences.append(window)\n",
    "    labels.append(label_map[action])"
   ]
  },
  {
   "cell_type": "code",
   "execution_count": 16,
   "metadata": {},
   "outputs": [],
   "source": [
    "x = np.array(sequences)"
   ]
  },
  {
   "cell_type": "code",
   "execution_count": 17,
   "metadata": {},
   "outputs": [
    {
     "data": {
      "text/plain": [
       "(90, 30, 1662)"
      ]
     },
     "execution_count": 17,
     "metadata": {},
     "output_type": "execute_result"
    }
   ],
   "source": [
    "x.shape"
   ]
  },
  {
   "cell_type": "code",
   "execution_count": 18,
   "metadata": {},
   "outputs": [],
   "source": [
    "y = to_categorical(labels).astype(int)"
   ]
  },
  {
   "cell_type": "code",
   "execution_count": 19,
   "metadata": {},
   "outputs": [
    {
     "data": {
      "text/plain": [
       "(90, 3)"
      ]
     },
     "execution_count": 19,
     "metadata": {},
     "output_type": "execute_result"
    }
   ],
   "source": [
    "y.shape"
   ]
  },
  {
   "cell_type": "code",
   "execution_count": 20,
   "metadata": {},
   "outputs": [],
   "source": [
    "X_train,X_test,y_train,y_test = train_test_split(x,y,test_size=0.05)"
   ]
  },
  {
   "cell_type": "code",
   "execution_count": 21,
   "metadata": {},
   "outputs": [],
   "source": [
    "from tensorflow.keras.models import Sequential\n",
    "from tensorflow.keras.layers import LSTM,Dense\n",
    "from tensorflow.keras.callbacks import TensorBoard"
   ]
  },
  {
   "cell_type": "code",
   "execution_count": 30,
   "metadata": {},
   "outputs": [],
   "source": [
    "log_dir = 'D:\\\\Final Year Project\\\\Express-U\\\\data\\\\Logs'\n",
    "tb_callback = TensorBoard(log_dir=log_dir)"
   ]
  },
  {
   "cell_type": "code",
   "execution_count": 86,
   "metadata": {},
   "outputs": [],
   "source": [
    "model = Sequential()\n",
    "model.add(LSTM(64,return_sequences=True,activation='relu',input_shape=(30,1662)))\n",
    "model.add(LSTM(128,return_sequences=True,activation='relu'))\n",
    "model.add(LSTM(64,return_sequences=False,activation='relu'))\n",
    "model.add(Dense(64,activation='relu'))\n",
    "model.add(Dense(32,activation='relu'))\n",
    "model.add(Dense(actions.shape[0],activation='softmax'))"
   ]
  },
  {
   "cell_type": "code",
   "execution_count": 87,
   "metadata": {},
   "outputs": [],
   "source": [
    "model.compile(optimizer='Adam',loss='categorical_crossentropy',metrics=['categorical_accuracy'])"
   ]
  },
  {
   "cell_type": "code",
   "execution_count": 88,
   "metadata": {},
   "outputs": [
    {
     "name": "stdout",
     "output_type": "stream",
     "text": [
      "Epoch 1/2000\n",
      "3/3 [==============================] - 9s 142ms/step - loss: 1.9842 - categorical_accuracy: 0.3412\n",
      "Epoch 2/2000\n",
      "3/3 [==============================] - 0s 119ms/step - loss: 2.8676 - categorical_accuracy: 0.3176\n",
      "Epoch 3/2000\n",
      "3/3 [==============================] - 2s 842ms/step - loss: 5.4178 - categorical_accuracy: 0.2706\n",
      "Epoch 4/2000\n",
      "3/3 [==============================] - 1s 187ms/step - loss: 1.0822 - categorical_accuracy: 0.3294\n",
      "Epoch 5/2000\n",
      "3/3 [==============================] - 0s 133ms/step - loss: 1.1133 - categorical_accuracy: 0.5647\n",
      "Epoch 6/2000\n",
      "3/3 [==============================] - 0s 109ms/step - loss: 1.8147 - categorical_accuracy: 0.2353\n",
      "Epoch 7/2000\n",
      "3/3 [==============================] - 0s 106ms/step - loss: 1.1552 - categorical_accuracy: 0.3412\n",
      "Epoch 8/2000\n",
      "3/3 [==============================] - 0s 113ms/step - loss: 1.0878 - categorical_accuracy: 0.3882\n",
      "Epoch 9/2000\n",
      "3/3 [==============================] - 1s 584ms/step - loss: 1.0719 - categorical_accuracy: 0.4941\n",
      "Epoch 10/2000\n",
      "3/3 [==============================] - 0s 115ms/step - loss: 1.0315 - categorical_accuracy: 0.5412\n",
      "Epoch 11/2000\n",
      "3/3 [==============================] - 0s 114ms/step - loss: 0.9703 - categorical_accuracy: 0.5294\n",
      "Epoch 12/2000\n",
      "3/3 [==============================] - 0s 110ms/step - loss: 1.2151 - categorical_accuracy: 0.4824\n",
      "Epoch 13/2000\n",
      "3/3 [==============================] - 0s 126ms/step - loss: 0.9940 - categorical_accuracy: 0.3882\n",
      "Epoch 14/2000\n",
      "3/3 [==============================] - 0s 139ms/step - loss: 0.9810 - categorical_accuracy: 0.6588\n",
      "Epoch 15/2000\n",
      "3/3 [==============================] - 0s 109ms/step - loss: 0.8743 - categorical_accuracy: 0.4706\n",
      "Epoch 16/2000\n",
      "3/3 [==============================] - 0s 178ms/step - loss: 0.7730 - categorical_accuracy: 0.5176\n",
      "Epoch 17/2000\n",
      "3/3 [==============================] - 0s 135ms/step - loss: 0.7141 - categorical_accuracy: 0.6588\n",
      "Epoch 18/2000\n",
      "3/3 [==============================] - 0s 121ms/step - loss: 0.6825 - categorical_accuracy: 0.6941\n",
      "Epoch 19/2000\n",
      "3/3 [==============================] - 1s 209ms/step - loss: 0.6272 - categorical_accuracy: 0.7059\n",
      "Epoch 20/2000\n",
      "3/3 [==============================] - 0s 132ms/step - loss: 0.5666 - categorical_accuracy: 0.6941\n",
      "Epoch 21/2000\n",
      "3/3 [==============================] - 0s 148ms/step - loss: 0.5073 - categorical_accuracy: 0.6471\n",
      "Epoch 22/2000\n",
      "3/3 [==============================] - 0s 166ms/step - loss: 0.4595 - categorical_accuracy: 0.6824\n",
      "Epoch 23/2000\n",
      "3/3 [==============================] - 0s 152ms/step - loss: 0.5051 - categorical_accuracy: 0.6706\n",
      "Epoch 24/2000\n",
      "3/3 [==============================] - 0s 115ms/step - loss: 2.0605 - categorical_accuracy: 0.4941\n",
      "Epoch 25/2000\n",
      "3/3 [==============================] - 0s 110ms/step - loss: 2.1321 - categorical_accuracy: 0.3412\n",
      "Epoch 26/2000\n",
      "3/3 [==============================] - 0s 158ms/step - loss: 1.2207 - categorical_accuracy: 0.3176\n",
      "Epoch 27/2000\n",
      "3/3 [==============================] - 0s 115ms/step - loss: 1.0975 - categorical_accuracy: 0.3294\n",
      "Epoch 28/2000\n",
      "3/3 [==============================] - 0s 111ms/step - loss: 1.0943 - categorical_accuracy: 0.3412\n",
      "Epoch 29/2000\n",
      "3/3 [==============================] - 0s 110ms/step - loss: 1.0920 - categorical_accuracy: 0.5412\n",
      "Epoch 30/2000\n",
      "3/3 [==============================] - 0s 119ms/step - loss: 1.0843 - categorical_accuracy: 0.4824\n",
      "Epoch 31/2000\n",
      "3/3 [==============================] - 0s 110ms/step - loss: 1.0557 - categorical_accuracy: 0.4588\n",
      "Epoch 32/2000\n",
      "3/3 [==============================] - 0s 109ms/step - loss: 0.9724 - categorical_accuracy: 0.4824\n",
      "Epoch 33/2000\n",
      "3/3 [==============================] - 0s 139ms/step - loss: 0.9133 - categorical_accuracy: 0.5294\n",
      "Epoch 34/2000\n",
      "3/3 [==============================] - 0s 135ms/step - loss: 0.7555 - categorical_accuracy: 0.6000\n",
      "Epoch 35/2000\n",
      "3/3 [==============================] - 0s 179ms/step - loss: 1.0934 - categorical_accuracy: 0.4235\n",
      "Epoch 36/2000\n",
      "3/3 [==============================] - 0s 129ms/step - loss: 1.0929 - categorical_accuracy: 0.3294\n",
      "Epoch 37/2000\n",
      "3/3 [==============================] - 1s 522ms/step - loss: 1.0677 - categorical_accuracy: 0.4000\n",
      "Epoch 38/2000\n",
      "3/3 [==============================] - 0s 126ms/step - loss: 1.0647 - categorical_accuracy: 0.3294\n",
      "Epoch 39/2000\n",
      "3/3 [==============================] - 0s 135ms/step - loss: 1.0521 - categorical_accuracy: 0.3294\n",
      "Epoch 40/2000\n",
      "3/3 [==============================] - 0s 162ms/step - loss: 1.0213 - categorical_accuracy: 0.3294\n",
      "Epoch 41/2000\n",
      "3/3 [==============================] - 0s 126ms/step - loss: 0.9924 - categorical_accuracy: 0.2824\n",
      "Epoch 42/2000\n",
      "3/3 [==============================] - 0s 142ms/step - loss: 0.9855 - categorical_accuracy: 0.3294\n",
      "Epoch 43/2000\n",
      "3/3 [==============================] - 1s 432ms/step - loss: 0.9408 - categorical_accuracy: 0.4471\n",
      "Epoch 44/2000\n",
      "3/3 [==============================] - 1s 688ms/step - loss: 0.9246 - categorical_accuracy: 0.6353\n",
      "Epoch 45/2000\n",
      "3/3 [==============================] - 1s 139ms/step - loss: 0.8789 - categorical_accuracy: 0.6353\n",
      "Epoch 46/2000\n",
      "3/3 [==============================] - 0s 192ms/step - loss: 0.8011 - categorical_accuracy: 0.6118\n",
      "Epoch 47/2000\n",
      "3/3 [==============================] - 0s 128ms/step - loss: 0.6871 - categorical_accuracy: 0.6353\n",
      "Epoch 48/2000\n",
      "3/3 [==============================] - 4s 2s/step - loss: 0.6869 - categorical_accuracy: 0.6353\n",
      "Epoch 49/2000\n",
      "3/3 [==============================] - 0s 157ms/step - loss: 0.7628 - categorical_accuracy: 0.6706\n",
      "Epoch 50/2000\n",
      "3/3 [==============================] - 1s 284ms/step - loss: 0.5911 - categorical_accuracy: 0.6588\n",
      "Epoch 51/2000\n",
      "3/3 [==============================] - 0s 114ms/step - loss: 0.4842 - categorical_accuracy: 0.6706\n",
      "Epoch 52/2000\n",
      "3/3 [==============================] - 0s 130ms/step - loss: 0.4651 - categorical_accuracy: 0.7176\n",
      "Epoch 53/2000\n",
      "3/3 [==============================] - 0s 142ms/step - loss: 0.4563 - categorical_accuracy: 0.6824\n",
      "Epoch 54/2000\n",
      "3/3 [==============================] - 0s 138ms/step - loss: 0.4429 - categorical_accuracy: 0.8235\n",
      "Epoch 55/2000\n",
      "3/3 [==============================] - 0s 106ms/step - loss: 0.4366 - categorical_accuracy: 0.7059\n",
      "Epoch 56/2000\n",
      "3/3 [==============================] - 0s 132ms/step - loss: 0.4236 - categorical_accuracy: 0.7882\n",
      "Epoch 57/2000\n",
      "3/3 [==============================] - 0s 109ms/step - loss: 0.4352 - categorical_accuracy: 0.7412\n",
      "Epoch 58/2000\n",
      "3/3 [==============================] - 2s 790ms/step - loss: 0.3887 - categorical_accuracy: 0.8000\n",
      "Epoch 59/2000\n",
      "3/3 [==============================] - 0s 96ms/step - loss: 0.3736 - categorical_accuracy: 0.8353\n",
      "Epoch 60/2000\n",
      "3/3 [==============================] - 0s 101ms/step - loss: 0.4159 - categorical_accuracy: 0.7412\n",
      "Epoch 61/2000\n",
      "3/3 [==============================] - 0s 129ms/step - loss: 0.3788 - categorical_accuracy: 0.8000\n",
      "Epoch 62/2000\n",
      "3/3 [==============================] - 2s 826ms/step - loss: 0.3465 - categorical_accuracy: 0.8353\n",
      "Epoch 63/2000\n",
      "3/3 [==============================] - 0s 113ms/step - loss: 0.3467 - categorical_accuracy: 0.8588\n",
      "Epoch 64/2000\n",
      "3/3 [==============================] - 0s 105ms/step - loss: 0.3252 - categorical_accuracy: 0.8471\n",
      "Epoch 65/2000\n",
      "3/3 [==============================] - 0s 121ms/step - loss: 0.3634 - categorical_accuracy: 0.8706\n",
      "Epoch 66/2000\n",
      "3/3 [==============================] - 0s 100ms/step - loss: 0.4826 - categorical_accuracy: 0.8000\n",
      "Epoch 67/2000\n",
      "3/3 [==============================] - 0s 110ms/step - loss: 0.5768 - categorical_accuracy: 0.6824\n",
      "Epoch 68/2000\n",
      "3/3 [==============================] - 0s 112ms/step - loss: 0.4662 - categorical_accuracy: 0.7529\n",
      "Epoch 69/2000\n",
      "3/3 [==============================] - 2s 797ms/step - loss: 0.5988 - categorical_accuracy: 0.6588\n",
      "Epoch 70/2000\n",
      "3/3 [==============================] - 1s 241ms/step - loss: 0.4282 - categorical_accuracy: 0.7882\n",
      "Epoch 71/2000\n",
      "3/3 [==============================] - 0s 131ms/step - loss: 0.4690 - categorical_accuracy: 0.6824\n",
      "Epoch 72/2000\n",
      "3/3 [==============================] - 0s 137ms/step - loss: 0.4368 - categorical_accuracy: 0.7647\n",
      "Epoch 73/2000\n",
      "3/3 [==============================] - 0s 143ms/step - loss: 0.4026 - categorical_accuracy: 0.8353\n",
      "Epoch 74/2000\n",
      "3/3 [==============================] - 0s 124ms/step - loss: 0.4190 - categorical_accuracy: 0.7529\n",
      "Epoch 75/2000\n",
      "3/3 [==============================] - 0s 144ms/step - loss: 0.3790 - categorical_accuracy: 0.8471\n",
      "Epoch 76/2000\n",
      "3/3 [==============================] - 0s 103ms/step - loss: 0.3680 - categorical_accuracy: 0.8471\n",
      "Epoch 77/2000\n",
      "3/3 [==============================] - 0s 130ms/step - loss: 0.3664 - categorical_accuracy: 0.8471\n",
      "Epoch 78/2000\n",
      "3/3 [==============================] - 1s 337ms/step - loss: 0.3495 - categorical_accuracy: 0.8706\n",
      "Epoch 79/2000\n",
      "3/3 [==============================] - 2s 833ms/step - loss: 0.5280 - categorical_accuracy: 0.7765\n",
      "Epoch 80/2000\n",
      "3/3 [==============================] - 0s 149ms/step - loss: 0.6593 - categorical_accuracy: 0.6588\n",
      "Epoch 81/2000\n",
      "3/3 [==============================] - 1s 304ms/step - loss: 0.4896 - categorical_accuracy: 0.7176\n",
      "Epoch 82/2000\n",
      "3/3 [==============================] - 1s 248ms/step - loss: 0.4980 - categorical_accuracy: 0.8353\n",
      "Epoch 83/2000\n",
      "3/3 [==============================] - 0s 106ms/step - loss: 0.4850 - categorical_accuracy: 0.7882\n",
      "Epoch 84/2000\n",
      "3/3 [==============================] - 0s 121ms/step - loss: 0.4941 - categorical_accuracy: 0.7647\n",
      "Epoch 85/2000\n",
      "3/3 [==============================] - 1s 222ms/step - loss: 0.4765 - categorical_accuracy: 0.7412\n",
      "Epoch 86/2000\n",
      "3/3 [==============================] - 0s 105ms/step - loss: 0.4387 - categorical_accuracy: 0.8118\n",
      "Epoch 87/2000\n",
      "3/3 [==============================] - 0s 135ms/step - loss: 0.4145 - categorical_accuracy: 0.8471\n",
      "Epoch 88/2000\n",
      "3/3 [==============================] - 0s 154ms/step - loss: 0.3957 - categorical_accuracy: 0.8000\n",
      "Epoch 89/2000\n",
      "3/3 [==============================] - 0s 98ms/step - loss: 0.3965 - categorical_accuracy: 0.8000 0s - loss: 0.3599 - categorical_accuracy: 0.\n",
      "Epoch 90/2000\n",
      "3/3 [==============================] - 0s 104ms/step - loss: 0.3685 - categorical_accuracy: 0.8353\n",
      "Epoch 91/2000\n",
      "3/3 [==============================] - 0s 111ms/step - loss: 0.3287 - categorical_accuracy: 0.8706\n",
      "Epoch 92/2000\n",
      "3/3 [==============================] - 1s 371ms/step - loss: 0.3208 - categorical_accuracy: 0.8588\n",
      "Epoch 93/2000\n",
      "3/3 [==============================] - 0s 110ms/step - loss: 0.3238 - categorical_accuracy: 0.8471\n",
      "Epoch 94/2000\n",
      "3/3 [==============================] - 0s 116ms/step - loss: 0.4003 - categorical_accuracy: 0.8471\n",
      "Epoch 95/2000\n",
      "3/3 [==============================] - 0s 114ms/step - loss: 0.3643 - categorical_accuracy: 0.7765\n",
      "Epoch 96/2000\n",
      "3/3 [==============================] - 1s 302ms/step - loss: 0.3533 - categorical_accuracy: 0.8235\n",
      "Epoch 97/2000\n",
      "3/3 [==============================] - 1s 260ms/step - loss: 0.3418 - categorical_accuracy: 0.8706\n",
      "Epoch 98/2000\n",
      "3/3 [==============================] - 0s 97ms/step - loss: 0.3751 - categorical_accuracy: 0.8471\n",
      "Epoch 99/2000\n",
      "3/3 [==============================] - 0s 125ms/step - loss: 0.3048 - categorical_accuracy: 0.8706\n",
      "Epoch 100/2000\n",
      "3/3 [==============================] - 0s 105ms/step - loss: 0.2976 - categorical_accuracy: 0.8706\n",
      "Epoch 101/2000\n",
      "3/3 [==============================] - 0s 119ms/step - loss: 0.2948 - categorical_accuracy: 0.8706\n",
      "Epoch 102/2000\n",
      "3/3 [==============================] - 1s 216ms/step - loss: 0.3150 - categorical_accuracy: 0.8706\n",
      "Epoch 103/2000\n",
      "3/3 [==============================] - 0s 189ms/step - loss: 0.3286 - categorical_accuracy: 0.8588\n",
      "Epoch 104/2000\n",
      "3/3 [==============================] - 0s 188ms/step - loss: 0.3209 - categorical_accuracy: 0.8471\n",
      "Epoch 105/2000\n",
      "3/3 [==============================] - 0s 105ms/step - loss: 0.2947 - categorical_accuracy: 0.8706\n",
      "Epoch 106/2000\n",
      "3/3 [==============================] - 0s 107ms/step - loss: 0.3063 - categorical_accuracy: 0.8706\n",
      "Epoch 107/2000\n",
      "3/3 [==============================] - 0s 113ms/step - loss: 0.3214 - categorical_accuracy: 0.8706\n",
      "Epoch 108/2000\n",
      "3/3 [==============================] - 0s 101ms/step - loss: 0.2995 - categorical_accuracy: 0.8471\n",
      "Epoch 109/2000\n",
      "3/3 [==============================] - 0s 104ms/step - loss: 0.3057 - categorical_accuracy: 0.8588\n",
      "Epoch 110/2000\n",
      "3/3 [==============================] - 0s 105ms/step - loss: 0.2964 - categorical_accuracy: 0.8588\n",
      "Epoch 111/2000\n",
      "3/3 [==============================] - 0s 182ms/step - loss: 0.2981 - categorical_accuracy: 0.8588\n",
      "Epoch 112/2000\n",
      "3/3 [==============================] - 0s 146ms/step - loss: 0.3255 - categorical_accuracy: 0.8588\n",
      "Epoch 113/2000\n",
      "3/3 [==============================] - 1s 239ms/step - loss: 0.2970 - categorical_accuracy: 0.8706\n",
      "Epoch 114/2000\n",
      "3/3 [==============================] - 0s 96ms/step - loss: 0.3229 - categorical_accuracy: 0.8706\n",
      "Epoch 115/2000\n",
      "3/3 [==============================] - 0s 107ms/step - loss: 0.2904 - categorical_accuracy: 0.8824\n",
      "Epoch 116/2000\n",
      "3/3 [==============================] - 0s 97ms/step - loss: 0.2791 - categorical_accuracy: 0.8588\n",
      "Epoch 117/2000\n",
      "3/3 [==============================] - 0s 107ms/step - loss: 0.2726 - categorical_accuracy: 0.8706\n",
      "Epoch 118/2000\n",
      "3/3 [==============================] - 0s 112ms/step - loss: 0.2751 - categorical_accuracy: 0.8706\n",
      "Epoch 119/2000\n",
      "3/3 [==============================] - 0s 131ms/step - loss: 0.2913 - categorical_accuracy: 0.8588\n",
      "Epoch 120/2000\n",
      "3/3 [==============================] - 0s 125ms/step - loss: 0.2792 - categorical_accuracy: 0.8706\n",
      "Epoch 121/2000\n",
      "3/3 [==============================] - 0s 139ms/step - loss: 0.2999 - categorical_accuracy: 0.8824\n",
      "Epoch 122/2000\n",
      "3/3 [==============================] - 0s 104ms/step - loss: 0.2961 - categorical_accuracy: 0.8588\n",
      "Epoch 123/2000\n",
      "3/3 [==============================] - 0s 99ms/step - loss: 0.2604 - categorical_accuracy: 0.8824\n",
      "Epoch 124/2000\n",
      "3/3 [==============================] - 2s 780ms/step - loss: 0.2535 - categorical_accuracy: 0.8824\n",
      "Epoch 125/2000\n",
      "3/3 [==============================] - 0s 99ms/step - loss: 0.2543 - categorical_accuracy: 0.8588\n",
      "Epoch 126/2000\n",
      "3/3 [==============================] - 2s 1s/step - loss: 0.2443 - categorical_accuracy: 0.8941\n",
      "Epoch 127/2000\n",
      "3/3 [==============================] - 0s 196ms/step - loss: 0.2439 - categorical_accuracy: 0.8706\n",
      "Epoch 128/2000\n",
      "3/3 [==============================] - 1s 349ms/step - loss: 0.2295 - categorical_accuracy: 0.9059\n",
      "Epoch 129/2000\n",
      "3/3 [==============================] - 2s 1s/step - loss: 0.2563 - categorical_accuracy: 0.9176\n",
      "Epoch 130/2000\n",
      "3/3 [==============================] - 0s 95ms/step - loss: 0.2888 - categorical_accuracy: 0.8824\n",
      "Epoch 131/2000\n",
      "3/3 [==============================] - 0s 124ms/step - loss: 0.2735 - categorical_accuracy: 0.9176\n",
      "Epoch 132/2000\n",
      "3/3 [==============================] - 0s 111ms/step - loss: 0.3373 - categorical_accuracy: 0.8235\n",
      "Epoch 133/2000\n",
      "3/3 [==============================] - 1s 366ms/step - loss: 0.2785 - categorical_accuracy: 0.8706\n",
      "Epoch 134/2000\n",
      "3/3 [==============================] - 0s 98ms/step - loss: 0.2798 - categorical_accuracy: 0.9059\n",
      "Epoch 135/2000\n",
      "3/3 [==============================] - 0s 99ms/step - loss: 0.2840 - categorical_accuracy: 0.8824\n",
      "Epoch 136/2000\n",
      "3/3 [==============================] - 0s 103ms/step - loss: 0.2593 - categorical_accuracy: 0.8941\n",
      "Epoch 137/2000\n",
      "3/3 [==============================] - 0s 107ms/step - loss: 0.2382 - categorical_accuracy: 0.8941\n",
      "Epoch 138/2000\n",
      "3/3 [==============================] - 0s 107ms/step - loss: 0.2586 - categorical_accuracy: 0.9059\n",
      "Epoch 139/2000\n",
      "3/3 [==============================] - 0s 116ms/step - loss: 0.2389 - categorical_accuracy: 0.8824\n",
      "Epoch 140/2000\n",
      "3/3 [==============================] - 0s 120ms/step - loss: 0.2978 - categorical_accuracy: 0.8706\n",
      "Epoch 141/2000\n",
      "3/3 [==============================] - 0s 120ms/step - loss: 0.2855 - categorical_accuracy: 0.9059\n",
      "Epoch 142/2000\n",
      "3/3 [==============================] - 0s 114ms/step - loss: 0.2906 - categorical_accuracy: 0.8706\n",
      "Epoch 143/2000\n",
      "3/3 [==============================] - 0s 92ms/step - loss: 0.2411 - categorical_accuracy: 0.8941\n",
      "Epoch 144/2000\n",
      "3/3 [==============================] - 0s 97ms/step - loss: 0.2692 - categorical_accuracy: 0.8941\n",
      "Epoch 145/2000\n",
      "3/3 [==============================] - 2s 871ms/step - loss: 0.2030 - categorical_accuracy: 0.8824\n",
      "Epoch 146/2000\n",
      "3/3 [==============================] - 0s 99ms/step - loss: 0.1752 - categorical_accuracy: 0.9412\n",
      "Epoch 147/2000\n",
      "1/3 [=========>....................] - ETA: 0s - loss: 0.1766 - categorical_accuracy: 0.9375"
     ]
    },
    {
     "ename": "KeyboardInterrupt",
     "evalue": "",
     "output_type": "error",
     "traceback": [
      "\u001b[1;31m---------------------------------------------------------------------------\u001b[0m",
      "\u001b[1;31mKeyboardInterrupt\u001b[0m                         Traceback (most recent call last)",
      "\u001b[1;32m<ipython-input-88-38716e1b1cb5>\u001b[0m in \u001b[0;36m<module>\u001b[1;34m\u001b[0m\n\u001b[1;32m----> 1\u001b[1;33m \u001b[0mmodel\u001b[0m\u001b[1;33m.\u001b[0m\u001b[0mfit\u001b[0m\u001b[1;33m(\u001b[0m\u001b[0mX_train\u001b[0m\u001b[1;33m,\u001b[0m\u001b[0my_train\u001b[0m\u001b[1;33m,\u001b[0m\u001b[0mepochs\u001b[0m\u001b[1;33m=\u001b[0m\u001b[1;36m2000\u001b[0m\u001b[1;33m,\u001b[0m\u001b[0mcallbacks\u001b[0m\u001b[1;33m=\u001b[0m\u001b[1;33m[\u001b[0m\u001b[0mtb_callback\u001b[0m\u001b[1;33m]\u001b[0m\u001b[1;33m)\u001b[0m\u001b[1;33m\u001b[0m\u001b[1;33m\u001b[0m\u001b[0m\n\u001b[0m",
      "\u001b[1;32m~\\anaconda3\\lib\\site-packages\\keras\\utils\\traceback_utils.py\u001b[0m in \u001b[0;36merror_handler\u001b[1;34m(*args, **kwargs)\u001b[0m\n\u001b[0;32m     62\u001b[0m     \u001b[0mfiltered_tb\u001b[0m \u001b[1;33m=\u001b[0m \u001b[1;32mNone\u001b[0m\u001b[1;33m\u001b[0m\u001b[1;33m\u001b[0m\u001b[0m\n\u001b[0;32m     63\u001b[0m     \u001b[1;32mtry\u001b[0m\u001b[1;33m:\u001b[0m\u001b[1;33m\u001b[0m\u001b[1;33m\u001b[0m\u001b[0m\n\u001b[1;32m---> 64\u001b[1;33m       \u001b[1;32mreturn\u001b[0m \u001b[0mfn\u001b[0m\u001b[1;33m(\u001b[0m\u001b[1;33m*\u001b[0m\u001b[0margs\u001b[0m\u001b[1;33m,\u001b[0m \u001b[1;33m**\u001b[0m\u001b[0mkwargs\u001b[0m\u001b[1;33m)\u001b[0m\u001b[1;33m\u001b[0m\u001b[1;33m\u001b[0m\u001b[0m\n\u001b[0m\u001b[0;32m     65\u001b[0m     \u001b[1;32mexcept\u001b[0m \u001b[0mException\u001b[0m \u001b[1;32mas\u001b[0m \u001b[0me\u001b[0m\u001b[1;33m:\u001b[0m  \u001b[1;31m# pylint: disable=broad-except\u001b[0m\u001b[1;33m\u001b[0m\u001b[1;33m\u001b[0m\u001b[0m\n\u001b[0;32m     66\u001b[0m       \u001b[0mfiltered_tb\u001b[0m \u001b[1;33m=\u001b[0m \u001b[0m_process_traceback_frames\u001b[0m\u001b[1;33m(\u001b[0m\u001b[0me\u001b[0m\u001b[1;33m.\u001b[0m\u001b[0m__traceback__\u001b[0m\u001b[1;33m)\u001b[0m\u001b[1;33m\u001b[0m\u001b[1;33m\u001b[0m\u001b[0m\n",
      "\u001b[1;32m~\\anaconda3\\lib\\site-packages\\keras\\engine\\training.py\u001b[0m in \u001b[0;36mfit\u001b[1;34m(self, x, y, batch_size, epochs, verbose, callbacks, validation_split, validation_data, shuffle, class_weight, sample_weight, initial_epoch, steps_per_epoch, validation_steps, validation_batch_size, validation_freq, max_queue_size, workers, use_multiprocessing)\u001b[0m\n\u001b[0;32m   1214\u001b[0m                 _r=1):\n\u001b[0;32m   1215\u001b[0m               \u001b[0mcallbacks\u001b[0m\u001b[1;33m.\u001b[0m\u001b[0mon_train_batch_begin\u001b[0m\u001b[1;33m(\u001b[0m\u001b[0mstep\u001b[0m\u001b[1;33m)\u001b[0m\u001b[1;33m\u001b[0m\u001b[1;33m\u001b[0m\u001b[0m\n\u001b[1;32m-> 1216\u001b[1;33m               \u001b[0mtmp_logs\u001b[0m \u001b[1;33m=\u001b[0m \u001b[0mself\u001b[0m\u001b[1;33m.\u001b[0m\u001b[0mtrain_function\u001b[0m\u001b[1;33m(\u001b[0m\u001b[0miterator\u001b[0m\u001b[1;33m)\u001b[0m\u001b[1;33m\u001b[0m\u001b[1;33m\u001b[0m\u001b[0m\n\u001b[0m\u001b[0;32m   1217\u001b[0m               \u001b[1;32mif\u001b[0m \u001b[0mdata_handler\u001b[0m\u001b[1;33m.\u001b[0m\u001b[0mshould_sync\u001b[0m\u001b[1;33m:\u001b[0m\u001b[1;33m\u001b[0m\u001b[1;33m\u001b[0m\u001b[0m\n\u001b[0;32m   1218\u001b[0m                 \u001b[0mcontext\u001b[0m\u001b[1;33m.\u001b[0m\u001b[0masync_wait\u001b[0m\u001b[1;33m(\u001b[0m\u001b[1;33m)\u001b[0m\u001b[1;33m\u001b[0m\u001b[1;33m\u001b[0m\u001b[0m\n",
      "\u001b[1;32m~\\anaconda3\\lib\\site-packages\\tensorflow\\python\\util\\traceback_utils.py\u001b[0m in \u001b[0;36merror_handler\u001b[1;34m(*args, **kwargs)\u001b[0m\n\u001b[0;32m    148\u001b[0m     \u001b[0mfiltered_tb\u001b[0m \u001b[1;33m=\u001b[0m \u001b[1;32mNone\u001b[0m\u001b[1;33m\u001b[0m\u001b[1;33m\u001b[0m\u001b[0m\n\u001b[0;32m    149\u001b[0m     \u001b[1;32mtry\u001b[0m\u001b[1;33m:\u001b[0m\u001b[1;33m\u001b[0m\u001b[1;33m\u001b[0m\u001b[0m\n\u001b[1;32m--> 150\u001b[1;33m       \u001b[1;32mreturn\u001b[0m \u001b[0mfn\u001b[0m\u001b[1;33m(\u001b[0m\u001b[1;33m*\u001b[0m\u001b[0margs\u001b[0m\u001b[1;33m,\u001b[0m \u001b[1;33m**\u001b[0m\u001b[0mkwargs\u001b[0m\u001b[1;33m)\u001b[0m\u001b[1;33m\u001b[0m\u001b[1;33m\u001b[0m\u001b[0m\n\u001b[0m\u001b[0;32m    151\u001b[0m     \u001b[1;32mexcept\u001b[0m \u001b[0mException\u001b[0m \u001b[1;32mas\u001b[0m \u001b[0me\u001b[0m\u001b[1;33m:\u001b[0m\u001b[1;33m\u001b[0m\u001b[1;33m\u001b[0m\u001b[0m\n\u001b[0;32m    152\u001b[0m       \u001b[0mfiltered_tb\u001b[0m \u001b[1;33m=\u001b[0m \u001b[0m_process_traceback_frames\u001b[0m\u001b[1;33m(\u001b[0m\u001b[0me\u001b[0m\u001b[1;33m.\u001b[0m\u001b[0m__traceback__\u001b[0m\u001b[1;33m)\u001b[0m\u001b[1;33m\u001b[0m\u001b[1;33m\u001b[0m\u001b[0m\n",
      "\u001b[1;32m~\\anaconda3\\lib\\site-packages\\tensorflow\\python\\eager\\def_function.py\u001b[0m in \u001b[0;36m__call__\u001b[1;34m(self, *args, **kwds)\u001b[0m\n\u001b[0;32m    908\u001b[0m \u001b[1;33m\u001b[0m\u001b[0m\n\u001b[0;32m    909\u001b[0m       \u001b[1;32mwith\u001b[0m \u001b[0mOptionalXlaContext\u001b[0m\u001b[1;33m(\u001b[0m\u001b[0mself\u001b[0m\u001b[1;33m.\u001b[0m\u001b[0m_jit_compile\u001b[0m\u001b[1;33m)\u001b[0m\u001b[1;33m:\u001b[0m\u001b[1;33m\u001b[0m\u001b[1;33m\u001b[0m\u001b[0m\n\u001b[1;32m--> 910\u001b[1;33m         \u001b[0mresult\u001b[0m \u001b[1;33m=\u001b[0m \u001b[0mself\u001b[0m\u001b[1;33m.\u001b[0m\u001b[0m_call\u001b[0m\u001b[1;33m(\u001b[0m\u001b[1;33m*\u001b[0m\u001b[0margs\u001b[0m\u001b[1;33m,\u001b[0m \u001b[1;33m**\u001b[0m\u001b[0mkwds\u001b[0m\u001b[1;33m)\u001b[0m\u001b[1;33m\u001b[0m\u001b[1;33m\u001b[0m\u001b[0m\n\u001b[0m\u001b[0;32m    911\u001b[0m \u001b[1;33m\u001b[0m\u001b[0m\n\u001b[0;32m    912\u001b[0m       \u001b[0mnew_tracing_count\u001b[0m \u001b[1;33m=\u001b[0m \u001b[0mself\u001b[0m\u001b[1;33m.\u001b[0m\u001b[0mexperimental_get_tracing_count\u001b[0m\u001b[1;33m(\u001b[0m\u001b[1;33m)\u001b[0m\u001b[1;33m\u001b[0m\u001b[1;33m\u001b[0m\u001b[0m\n",
      "\u001b[1;32m~\\anaconda3\\lib\\site-packages\\tensorflow\\python\\eager\\def_function.py\u001b[0m in \u001b[0;36m_call\u001b[1;34m(self, *args, **kwds)\u001b[0m\n\u001b[0;32m    940\u001b[0m       \u001b[1;31m# In this case we have created variables on the first call, so we run the\u001b[0m\u001b[1;33m\u001b[0m\u001b[1;33m\u001b[0m\u001b[1;33m\u001b[0m\u001b[0m\n\u001b[0;32m    941\u001b[0m       \u001b[1;31m# defunned version which is guaranteed to never create variables.\u001b[0m\u001b[1;33m\u001b[0m\u001b[1;33m\u001b[0m\u001b[1;33m\u001b[0m\u001b[0m\n\u001b[1;32m--> 942\u001b[1;33m       \u001b[1;32mreturn\u001b[0m \u001b[0mself\u001b[0m\u001b[1;33m.\u001b[0m\u001b[0m_stateless_fn\u001b[0m\u001b[1;33m(\u001b[0m\u001b[1;33m*\u001b[0m\u001b[0margs\u001b[0m\u001b[1;33m,\u001b[0m \u001b[1;33m**\u001b[0m\u001b[0mkwds\u001b[0m\u001b[1;33m)\u001b[0m  \u001b[1;31m# pylint: disable=not-callable\u001b[0m\u001b[1;33m\u001b[0m\u001b[1;33m\u001b[0m\u001b[0m\n\u001b[0m\u001b[0;32m    943\u001b[0m     \u001b[1;32melif\u001b[0m \u001b[0mself\u001b[0m\u001b[1;33m.\u001b[0m\u001b[0m_stateful_fn\u001b[0m \u001b[1;32mis\u001b[0m \u001b[1;32mnot\u001b[0m \u001b[1;32mNone\u001b[0m\u001b[1;33m:\u001b[0m\u001b[1;33m\u001b[0m\u001b[1;33m\u001b[0m\u001b[0m\n\u001b[0;32m    944\u001b[0m       \u001b[1;31m# Release the lock early so that multiple threads can perform the call\u001b[0m\u001b[1;33m\u001b[0m\u001b[1;33m\u001b[0m\u001b[1;33m\u001b[0m\u001b[0m\n",
      "\u001b[1;32m~\\anaconda3\\lib\\site-packages\\tensorflow\\python\\eager\\function.py\u001b[0m in \u001b[0;36m__call__\u001b[1;34m(self, *args, **kwargs)\u001b[0m\n\u001b[0;32m   3128\u001b[0m       (graph_function,\n\u001b[0;32m   3129\u001b[0m        filtered_flat_args) = self._maybe_define_function(args, kwargs)\n\u001b[1;32m-> 3130\u001b[1;33m     return graph_function._call_flat(\n\u001b[0m\u001b[0;32m   3131\u001b[0m         filtered_flat_args, captured_inputs=graph_function.captured_inputs)  # pylint: disable=protected-access\n\u001b[0;32m   3132\u001b[0m \u001b[1;33m\u001b[0m\u001b[0m\n",
      "\u001b[1;32m~\\anaconda3\\lib\\site-packages\\tensorflow\\python\\eager\\function.py\u001b[0m in \u001b[0;36m_call_flat\u001b[1;34m(self, args, captured_inputs, cancellation_manager)\u001b[0m\n\u001b[0;32m   1957\u001b[0m         and executing_eagerly):\n\u001b[0;32m   1958\u001b[0m       \u001b[1;31m# No tape is watching; skip to running the function.\u001b[0m\u001b[1;33m\u001b[0m\u001b[1;33m\u001b[0m\u001b[1;33m\u001b[0m\u001b[0m\n\u001b[1;32m-> 1959\u001b[1;33m       return self._build_call_outputs(self._inference_function.call(\n\u001b[0m\u001b[0;32m   1960\u001b[0m           ctx, args, cancellation_manager=cancellation_manager))\n\u001b[0;32m   1961\u001b[0m     forward_backward = self._select_forward_and_backward_functions(\n",
      "\u001b[1;32m~\\anaconda3\\lib\\site-packages\\tensorflow\\python\\eager\\function.py\u001b[0m in \u001b[0;36mcall\u001b[1;34m(self, ctx, args, cancellation_manager)\u001b[0m\n\u001b[0;32m    596\u001b[0m       \u001b[1;32mwith\u001b[0m \u001b[0m_InterpolateFunctionError\u001b[0m\u001b[1;33m(\u001b[0m\u001b[0mself\u001b[0m\u001b[1;33m)\u001b[0m\u001b[1;33m:\u001b[0m\u001b[1;33m\u001b[0m\u001b[1;33m\u001b[0m\u001b[0m\n\u001b[0;32m    597\u001b[0m         \u001b[1;32mif\u001b[0m \u001b[0mcancellation_manager\u001b[0m \u001b[1;32mis\u001b[0m \u001b[1;32mNone\u001b[0m\u001b[1;33m:\u001b[0m\u001b[1;33m\u001b[0m\u001b[1;33m\u001b[0m\u001b[0m\n\u001b[1;32m--> 598\u001b[1;33m           outputs = execute.execute(\n\u001b[0m\u001b[0;32m    599\u001b[0m               \u001b[0mstr\u001b[0m\u001b[1;33m(\u001b[0m\u001b[0mself\u001b[0m\u001b[1;33m.\u001b[0m\u001b[0msignature\u001b[0m\u001b[1;33m.\u001b[0m\u001b[0mname\u001b[0m\u001b[1;33m)\u001b[0m\u001b[1;33m,\u001b[0m\u001b[1;33m\u001b[0m\u001b[1;33m\u001b[0m\u001b[0m\n\u001b[0;32m    600\u001b[0m               \u001b[0mnum_outputs\u001b[0m\u001b[1;33m=\u001b[0m\u001b[0mself\u001b[0m\u001b[1;33m.\u001b[0m\u001b[0m_num_outputs\u001b[0m\u001b[1;33m,\u001b[0m\u001b[1;33m\u001b[0m\u001b[1;33m\u001b[0m\u001b[0m\n",
      "\u001b[1;32m~\\anaconda3\\lib\\site-packages\\tensorflow\\python\\eager\\execute.py\u001b[0m in \u001b[0;36mquick_execute\u001b[1;34m(op_name, num_outputs, inputs, attrs, ctx, name)\u001b[0m\n\u001b[0;32m     56\u001b[0m   \u001b[1;32mtry\u001b[0m\u001b[1;33m:\u001b[0m\u001b[1;33m\u001b[0m\u001b[1;33m\u001b[0m\u001b[0m\n\u001b[0;32m     57\u001b[0m     \u001b[0mctx\u001b[0m\u001b[1;33m.\u001b[0m\u001b[0mensure_initialized\u001b[0m\u001b[1;33m(\u001b[0m\u001b[1;33m)\u001b[0m\u001b[1;33m\u001b[0m\u001b[1;33m\u001b[0m\u001b[0m\n\u001b[1;32m---> 58\u001b[1;33m     tensors = pywrap_tfe.TFE_Py_Execute(ctx._handle, device_name, op_name,\n\u001b[0m\u001b[0;32m     59\u001b[0m                                         inputs, attrs, num_outputs)\n\u001b[0;32m     60\u001b[0m   \u001b[1;32mexcept\u001b[0m \u001b[0mcore\u001b[0m\u001b[1;33m.\u001b[0m\u001b[0m_NotOkStatusException\u001b[0m \u001b[1;32mas\u001b[0m \u001b[0me\u001b[0m\u001b[1;33m:\u001b[0m\u001b[1;33m\u001b[0m\u001b[1;33m\u001b[0m\u001b[0m\n",
      "\u001b[1;31mKeyboardInterrupt\u001b[0m: "
     ]
    }
   ],
   "source": [
    "model.fit(X_train,y_train,epochs=2000,callbacks=[tb_callback])"
   ]
  },
  {
   "cell_type": "code",
   "execution_count": 89,
   "metadata": {},
   "outputs": [],
   "source": [
    "from sklearn.metrics import multilabel_confusion_matrix,accuracy_score"
   ]
  },
  {
   "cell_type": "code",
   "execution_count": 90,
   "metadata": {},
   "outputs": [],
   "source": [
    "from sklearn.metrics import multilabel_confusion_matrix,accuracy_score"
   ]
  },
  {
   "cell_type": "code",
   "execution_count": 91,
   "metadata": {},
   "outputs": [],
   "source": [
    "yhat = model.predict(X_test)"
   ]
  },
  {
   "cell_type": "code",
   "execution_count": 92,
   "metadata": {},
   "outputs": [],
   "source": [
    "ytrue = np.argmax(y_test,axis=1).tolist()\n",
    "yhat = np.argmax(yhat,axis=1).tolist()"
   ]
  },
  {
   "cell_type": "code",
   "execution_count": 93,
   "metadata": {},
   "outputs": [
    {
     "data": {
      "text/plain": [
       "array([[[3, 0],\n",
       "        [0, 2]],\n",
       "\n",
       "       [[3, 0],\n",
       "        [0, 2]],\n",
       "\n",
       "       [[4, 0],\n",
       "        [0, 1]]], dtype=int64)"
      ]
     },
     "execution_count": 93,
     "metadata": {},
     "output_type": "execute_result"
    }
   ],
   "source": [
    "multilabel_confusion_matrix(ytrue,yhat)"
   ]
  },
  {
   "cell_type": "code",
   "execution_count": 94,
   "metadata": {},
   "outputs": [
    {
     "data": {
      "text/plain": [
       "1.0"
      ]
     },
     "execution_count": 94,
     "metadata": {},
     "output_type": "execute_result"
    }
   ],
   "source": [
    "accuracy_score(ytrue,yhat)"
   ]
  },
  {
   "cell_type": "code",
   "execution_count": 95,
   "metadata": {},
   "outputs": [],
   "source": [
    "model.save('actions.h5')"
   ]
  },
  {
   "cell_type": "code",
   "execution_count": null,
   "metadata": {},
   "outputs": [],
   "source": []
  }
 ],
 "metadata": {
  "interpreter": {
   "hash": "bd4c67ef142469da7dc4d338a32ac40116904d26076b8e6aa587d80720bc6a2b"
  },
  "kernelspec": {
   "display_name": "Python 3.9.6 64-bit",
   "language": "python",
   "name": "python3"
  },
  "language_info": {
   "codemirror_mode": {
    "name": "ipython",
    "version": 3
   },
   "file_extension": ".py",
   "mimetype": "text/x-python",
   "name": "python",
   "nbconvert_exporter": "python",
   "pygments_lexer": "ipython3",
   "version": "3.8.8"
  },
  "orig_nbformat": 4
 },
 "nbformat": 4,
 "nbformat_minor": 2
}
