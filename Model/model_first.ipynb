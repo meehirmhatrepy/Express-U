{
 "cells": [
  {
   "cell_type": "code",
   "execution_count": 3,
   "metadata": {},
   "outputs": [],
   "source": [
    "import os\n",
    "import pandas as pd\n",
    "import numpy as np\n",
    "import matplotlib.pyplot as plt\n",
    "%matplotlib inline\n",
    "from sklearn.model_selection import train_test_split\n",
    "from tensorflow.keras.models import Sequential\n",
    "from tensorflow.keras.optimizers import Adam\n",
    "from tensorflow.keras.preprocessing.image import ImageDataGenerator\n",
    "from tensorflow.keras.layers import Conv2D, MaxPool2D, Flatten, Dropout,Dense,ReLU,Softmax"
   ]
  },
  {
   "cell_type": "code",
   "execution_count": 4,
   "metadata": {},
   "outputs": [
    {
     "data": {
      "text/html": [
       "<div>\n",
       "<style scoped>\n",
       "    .dataframe tbody tr th:only-of-type {\n",
       "        vertical-align: middle;\n",
       "    }\n",
       "\n",
       "    .dataframe tbody tr th {\n",
       "        vertical-align: top;\n",
       "    }\n",
       "\n",
       "    .dataframe thead th {\n",
       "        text-align: right;\n",
       "    }\n",
       "</style>\n",
       "<table border=\"1\" class=\"dataframe\">\n",
       "  <thead>\n",
       "    <tr style=\"text-align: right;\">\n",
       "      <th></th>\n",
       "      <th>file_paths</th>\n",
       "      <th>labels</th>\n",
       "    </tr>\n",
       "  </thead>\n",
       "  <tbody>\n",
       "    <tr>\n",
       "      <th>0</th>\n",
       "      <td>E:/Documents/GitHub/Express-U/data/preprocesse...</td>\n",
       "      <td>1</td>\n",
       "    </tr>\n",
       "    <tr>\n",
       "      <th>1</th>\n",
       "      <td>E:/Documents/GitHub/Express-U/data/preprocesse...</td>\n",
       "      <td>1</td>\n",
       "    </tr>\n",
       "    <tr>\n",
       "      <th>2</th>\n",
       "      <td>E:/Documents/GitHub/Express-U/data/preprocesse...</td>\n",
       "      <td>1</td>\n",
       "    </tr>\n",
       "    <tr>\n",
       "      <th>3</th>\n",
       "      <td>E:/Documents/GitHub/Express-U/data/preprocesse...</td>\n",
       "      <td>1</td>\n",
       "    </tr>\n",
       "    <tr>\n",
       "      <th>4</th>\n",
       "      <td>E:/Documents/GitHub/Express-U/data/preprocesse...</td>\n",
       "      <td>1</td>\n",
       "    </tr>\n",
       "    <tr>\n",
       "      <th>...</th>\n",
       "      <td>...</td>\n",
       "      <td>...</td>\n",
       "    </tr>\n",
       "    <tr>\n",
       "      <th>41995</th>\n",
       "      <td>E:/Documents/GitHub/Express-U/data/preprocesse...</td>\n",
       "      <td>Z</td>\n",
       "    </tr>\n",
       "    <tr>\n",
       "      <th>41996</th>\n",
       "      <td>E:/Documents/GitHub/Express-U/data/preprocesse...</td>\n",
       "      <td>Z</td>\n",
       "    </tr>\n",
       "    <tr>\n",
       "      <th>41997</th>\n",
       "      <td>E:/Documents/GitHub/Express-U/data/preprocesse...</td>\n",
       "      <td>Z</td>\n",
       "    </tr>\n",
       "    <tr>\n",
       "      <th>41998</th>\n",
       "      <td>E:/Documents/GitHub/Express-U/data/preprocesse...</td>\n",
       "      <td>Z</td>\n",
       "    </tr>\n",
       "    <tr>\n",
       "      <th>41999</th>\n",
       "      <td>E:/Documents/GitHub/Express-U/data/preprocesse...</td>\n",
       "      <td>Z</td>\n",
       "    </tr>\n",
       "  </tbody>\n",
       "</table>\n",
       "<p>42000 rows × 2 columns</p>\n",
       "</div>"
      ],
      "text/plain": [
       "                                              file_paths labels\n",
       "0      E:/Documents/GitHub/Express-U/data/preprocesse...      1\n",
       "1      E:/Documents/GitHub/Express-U/data/preprocesse...      1\n",
       "2      E:/Documents/GitHub/Express-U/data/preprocesse...      1\n",
       "3      E:/Documents/GitHub/Express-U/data/preprocesse...      1\n",
       "4      E:/Documents/GitHub/Express-U/data/preprocesse...      1\n",
       "...                                                  ...    ...\n",
       "41995  E:/Documents/GitHub/Express-U/data/preprocesse...      Z\n",
       "41996  E:/Documents/GitHub/Express-U/data/preprocesse...      Z\n",
       "41997  E:/Documents/GitHub/Express-U/data/preprocesse...      Z\n",
       "41998  E:/Documents/GitHub/Express-U/data/preprocesse...      Z\n",
       "41999  E:/Documents/GitHub/Express-U/data/preprocesse...      Z\n",
       "\n",
       "[42000 rows x 2 columns]"
      ]
     },
     "execution_count": 4,
     "metadata": {},
     "output_type": "execute_result"
    }
   ],
   "source": [
    "df = pd.read_csv('E:/Documents/GitHub/Express-U/data/preprocessed/canny_labels.csv',index_col=False)\n",
    "df"
   ]
  },
  {
   "cell_type": "code",
   "execution_count": 5,
   "metadata": {},
   "outputs": [],
   "source": [
    "X_Train,X_Test = train_test_split(df,train_size=0.8,random_state=42,shuffle=True)"
   ]
  },
  {
   "cell_type": "code",
   "execution_count": 6,
   "metadata": {},
   "outputs": [],
   "source": [
    "Train_image_generator = ImageDataGenerator(rescale=1/255,\n",
    "                                        zoom_range=0.5,\n",
    "                                        brightness_range=[0.6,1.0],\n",
    "                                        rotation_range=20,\n",
    "                                        validation_split=0.1)\n",
    "Validation_image_generator = ImageDataGenerator(rescale=1/255)"
   ]
  },
  {
   "cell_type": "code",
   "execution_count": 7,
   "metadata": {},
   "outputs": [
    {
     "name": "stdout",
     "output_type": "stream",
     "text": [
      "Found 30240 validated image filenames belonging to 35 classes.\n",
      "Found 8400 validated image filenames belonging to 35 classes.\n"
     ]
    }
   ],
   "source": [
    "Train_Set = Train_image_generator.flow_from_dataframe(dataframe=X_Train,\n",
    "                                                   x_col=\"file_paths\",\n",
    "                                                   y_col=\"labels\",\n",
    "                                                   batch_size=32,\n",
    "                                                   class_mode=\"categorical\",\n",
    "                                                   color_mode=\"grayscale\",\n",
    "                                                   subset=\"training\")\n",
    "\n",
    "Validation_Set = Validation_image_generator.flow_from_dataframe(dataframe=X_Test,\n",
    "                                                   x_col=\"file_paths\",\n",
    "                                                   y_col=\"labels\",\n",
    "                                                   batch_size=32,\n",
    "                                                   class_mode=\"categorical\",\n",
    "                                                   color_mode=\"grayscale\",\n",
    "                                                   shuffle=False)"
   ]
  },
  {
   "cell_type": "code",
   "execution_count": 8,
   "metadata": {},
   "outputs": [
    {
     "data": {
      "text/plain": [
       "(256, 256, 1)"
      ]
     },
     "execution_count": 8,
     "metadata": {},
     "output_type": "execute_result"
    }
   ],
   "source": [
    "Train_Set.image_shape"
   ]
  },
  {
   "cell_type": "code",
   "execution_count": 9,
   "metadata": {},
   "outputs": [],
   "source": [
    "inputshape = (256,256,1)\n",
    "outputshape = 35\n",
    "\n",
    "model = Sequential()\n",
    "model.add(Conv2D(input_shape=inputshape,filters=64,kernel_size=(3,3),padding=\"same\", activation=\"relu\"))\n",
    "model.add(Conv2D(filters=64,kernel_size=(3,3),padding=\"same\", activation=\"relu\"))\n",
    "model.add(MaxPool2D(pool_size=(2,2),strides=(2,2)))\n",
    "model.add(Conv2D(filters=128, kernel_size=(3,3), padding=\"same\", activation=\"relu\"))\n",
    "model.add(Conv2D(filters=128, kernel_size=(3,3), padding=\"same\", activation=\"relu\"))\n",
    "model.add(MaxPool2D(pool_size=(2,2),strides=(2,2)))\n",
    "\n",
    "model.add(Flatten())\n",
    "model.add(Dense(128,activation=\"relu\"))\n",
    "model.add(Dense(64,activation=\"relu\"))\n",
    "model.add(Dense(outputshape,activation=\"softmax\"))\n"
   ]
  },
  {
   "cell_type": "code",
   "execution_count": 10,
   "metadata": {},
   "outputs": [
    {
     "name": "stdout",
     "output_type": "stream",
     "text": [
      "Model: \"sequential\"\n",
      "_________________________________________________________________\n",
      "Layer (type)                 Output Shape              Param #   \n",
      "=================================================================\n",
      "conv2d (Conv2D)              (None, 256, 256, 64)      640       \n",
      "_________________________________________________________________\n",
      "conv2d_1 (Conv2D)            (None, 256, 256, 64)      36928     \n",
      "_________________________________________________________________\n",
      "max_pooling2d (MaxPooling2D) (None, 128, 128, 64)      0         \n",
      "_________________________________________________________________\n",
      "conv2d_2 (Conv2D)            (None, 128, 128, 128)     73856     \n",
      "_________________________________________________________________\n",
      "conv2d_3 (Conv2D)            (None, 128, 128, 128)     147584    \n",
      "_________________________________________________________________\n",
      "max_pooling2d_1 (MaxPooling2 (None, 64, 64, 128)       0         \n",
      "_________________________________________________________________\n",
      "flatten (Flatten)            (None, 524288)            0         \n",
      "_________________________________________________________________\n",
      "dense (Dense)                (None, 128)               67108992  \n",
      "_________________________________________________________________\n",
      "dense_1 (Dense)              (None, 64)                8256      \n",
      "_________________________________________________________________\n",
      "dense_2 (Dense)              (None, 35)                2275      \n",
      "=================================================================\n",
      "Total params: 67,378,531\n",
      "Trainable params: 67,378,531\n",
      "Non-trainable params: 0\n",
      "_________________________________________________________________\n"
     ]
    }
   ],
   "source": [
    "model.summary()"
   ]
  },
  {
   "cell_type": "code",
   "execution_count": 11,
   "metadata": {},
   "outputs": [],
   "source": [
    "lr=0.001\n",
    "model.compile(loss='categorical_crossentropy', optimizer=Adam(learning_rate=lr), metrics=['accuracy'])"
   ]
  },
  {
   "cell_type": "code",
   "execution_count": 12,
   "metadata": {},
   "outputs": [
    {
     "name": "stdout",
     "output_type": "stream",
     "text": [
      "Epoch 1/10\n",
      "8/8 [==============================] - 713s 90s/step - loss: 3.5145 - accuracy: 0.0586 - val_loss: 3.3267 - val_accuracy: 0.1484\n",
      "Epoch 2/10\n",
      "8/8 [==============================] - 481s 56s/step - loss: 3.3002 - accuracy: 0.1484 - val_loss: 2.6192 - val_accuracy: 0.2344\n",
      "Epoch 3/10\n",
      "8/8 [==============================] - 341s 44s/step - loss: 3.0793 - accuracy: 0.2188 - val_loss: 2.2863 - val_accuracy: 0.4023\n",
      "Epoch 4/10\n",
      "8/8 [==============================] - 307s 39s/step - loss: 2.6590 - accuracy: 0.3281 - val_loss: 1.4886 - val_accuracy: 0.6367\n",
      "Epoch 5/10\n",
      "8/8 [==============================] - 290s 37s/step - loss: 2.1465 - accuracy: 0.4492 - val_loss: 0.8651 - val_accuracy: 0.7188\n",
      "Epoch 6/10\n",
      "8/8 [==============================] - 250s 32s/step - loss: 1.8735 - accuracy: 0.5078 - val_loss: 0.7095 - val_accuracy: 0.7891\n",
      "Epoch 7/10\n",
      "8/8 [==============================] - 254s 32s/step - loss: 1.4582 - accuracy: 0.6016 - val_loss: 0.2782 - val_accuracy: 0.9414\n",
      "Epoch 8/10\n",
      "8/8 [==============================] - 255s 33s/step - loss: 1.1524 - accuracy: 0.6719 - val_loss: 0.1778 - val_accuracy: 0.9570\n",
      "Epoch 9/10\n",
      "8/8 [==============================] - 198s 25s/step - loss: 0.9536 - accuracy: 0.7461 - val_loss: 0.2045 - val_accuracy: 0.9492\n",
      "Epoch 10/10\n",
      "8/8 [==============================] - 184s 24s/step - loss: 0.9856 - accuracy: 0.7227 - val_loss: 0.1998 - val_accuracy: 0.9375\n"
     ]
    }
   ],
   "source": [
    "history = model.fit(Train_Set,epochs=10,steps_per_epoch=(Train_Set.image_shape[0] // 32),validation_steps=(Validation_Set.image_shape[0] // 32),batch_size=32,verbose=1,validation_data=Validation_Set)"
   ]
  },
  {
   "cell_type": "code",
   "execution_count": 13,
   "metadata": {},
   "outputs": [
    {
     "data": {
      "text/plain": [
       "{'loss': [3.514519453048706,\n",
       "  3.3002443313598633,\n",
       "  3.079265594482422,\n",
       "  2.659022808074951,\n",
       "  2.1464507579803467,\n",
       "  1.873488426208496,\n",
       "  1.4582101106643677,\n",
       "  1.1524150371551514,\n",
       "  0.9536014199256897,\n",
       "  0.9856067299842834],\n",
       " 'accuracy': [0.05859375,\n",
       "  0.1484375,\n",
       "  0.21875,\n",
       "  0.328125,\n",
       "  0.44921875,\n",
       "  0.5078125,\n",
       "  0.6015625,\n",
       "  0.671875,\n",
       "  0.74609375,\n",
       "  0.72265625],\n",
       " 'val_loss': [3.32668137550354,\n",
       "  2.6191675662994385,\n",
       "  2.286271095275879,\n",
       "  1.4885789155960083,\n",
       "  0.8651072978973389,\n",
       "  0.7095006704330444,\n",
       "  0.2782427966594696,\n",
       "  0.17775210738182068,\n",
       "  0.20452380180358887,\n",
       "  0.19975844025611877],\n",
       " 'val_accuracy': [0.1484375,\n",
       "  0.234375,\n",
       "  0.40234375,\n",
       "  0.63671875,\n",
       "  0.71875,\n",
       "  0.7890625,\n",
       "  0.94140625,\n",
       "  0.95703125,\n",
       "  0.94921875,\n",
       "  0.9375]}"
      ]
     },
     "execution_count": 13,
     "metadata": {},
     "output_type": "execute_result"
    }
   ],
   "source": [
    "history.history"
   ]
  },
  {
   "cell_type": "code",
   "execution_count": null,
   "metadata": {},
   "outputs": [],
   "source": []
  },
  {
   "cell_type": "code",
   "execution_count": null,
   "metadata": {},
   "outputs": [],
   "source": []
  }
 ],
 "metadata": {
  "interpreter": {
   "hash": "a8a3b870b663af00ffaf2965646e614892b3bc390a9f2eaaf38e9628c0376dcf"
  },
  "kernelspec": {
   "display_name": "Python 3",
   "language": "python",
   "name": "python3"
  },
  "language_info": {
   "codemirror_mode": {
    "name": "ipython",
    "version": 3
   },
   "file_extension": ".py",
   "mimetype": "text/x-python",
   "name": "python",
   "nbconvert_exporter": "python",
   "pygments_lexer": "ipython3",
   "version": "3.9.6"
  }
 },
 "nbformat": 4,
 "nbformat_minor": 2
}
