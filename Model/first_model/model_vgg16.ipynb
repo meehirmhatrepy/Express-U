{
 "cells": [
  {
   "cell_type": "code",
   "execution_count": 2,
   "metadata": {},
   "outputs": [],
   "source": [
    "import os\n",
    "import pandas as pd\n",
    "import numpy as np\n",
    "import matplotlib.pyplot as plt\n",
    "%matplotlib inline\n",
    "from sklearn.model_selection import train_test_split\n",
    "from tensorflow.keras.models import Sequential,Model\n",
    "from tensorflow.keras.optimizers import Adam\n",
    "from tensorflow.keras.preprocessing.image import ImageDataGenerator\n",
    "from tensorflow.keras.layers import Conv2D, MaxPool2D, Flatten, Dropout,Dense,ReLU,Softmax\n",
    "from keras.applications.vgg16 import VGG16"
   ]
  },
  {
   "cell_type": "code",
   "execution_count": 3,
   "metadata": {},
   "outputs": [
    {
     "data": {
      "text/html": [
       "<div>\n",
       "<style scoped>\n",
       "    .dataframe tbody tr th:only-of-type {\n",
       "        vertical-align: middle;\n",
       "    }\n",
       "\n",
       "    .dataframe tbody tr th {\n",
       "        vertical-align: top;\n",
       "    }\n",
       "\n",
       "    .dataframe thead th {\n",
       "        text-align: right;\n",
       "    }\n",
       "</style>\n",
       "<table border=\"1\" class=\"dataframe\">\n",
       "  <thead>\n",
       "    <tr style=\"text-align: right;\">\n",
       "      <th></th>\n",
       "      <th>file_paths</th>\n",
       "      <th>labels</th>\n",
       "    </tr>\n",
       "  </thead>\n",
       "  <tbody>\n",
       "    <tr>\n",
       "      <th>0</th>\n",
       "      <td>E:/Documents/GitHub/Express-U/data/preprocesse...</td>\n",
       "      <td>1</td>\n",
       "    </tr>\n",
       "    <tr>\n",
       "      <th>1</th>\n",
       "      <td>E:/Documents/GitHub/Express-U/data/preprocesse...</td>\n",
       "      <td>1</td>\n",
       "    </tr>\n",
       "    <tr>\n",
       "      <th>2</th>\n",
       "      <td>E:/Documents/GitHub/Express-U/data/preprocesse...</td>\n",
       "      <td>1</td>\n",
       "    </tr>\n",
       "    <tr>\n",
       "      <th>3</th>\n",
       "      <td>E:/Documents/GitHub/Express-U/data/preprocesse...</td>\n",
       "      <td>1</td>\n",
       "    </tr>\n",
       "    <tr>\n",
       "      <th>4</th>\n",
       "      <td>E:/Documents/GitHub/Express-U/data/preprocesse...</td>\n",
       "      <td>1</td>\n",
       "    </tr>\n",
       "    <tr>\n",
       "      <th>...</th>\n",
       "      <td>...</td>\n",
       "      <td>...</td>\n",
       "    </tr>\n",
       "    <tr>\n",
       "      <th>41995</th>\n",
       "      <td>E:/Documents/GitHub/Express-U/data/preprocesse...</td>\n",
       "      <td>Z</td>\n",
       "    </tr>\n",
       "    <tr>\n",
       "      <th>41996</th>\n",
       "      <td>E:/Documents/GitHub/Express-U/data/preprocesse...</td>\n",
       "      <td>Z</td>\n",
       "    </tr>\n",
       "    <tr>\n",
       "      <th>41997</th>\n",
       "      <td>E:/Documents/GitHub/Express-U/data/preprocesse...</td>\n",
       "      <td>Z</td>\n",
       "    </tr>\n",
       "    <tr>\n",
       "      <th>41998</th>\n",
       "      <td>E:/Documents/GitHub/Express-U/data/preprocesse...</td>\n",
       "      <td>Z</td>\n",
       "    </tr>\n",
       "    <tr>\n",
       "      <th>41999</th>\n",
       "      <td>E:/Documents/GitHub/Express-U/data/preprocesse...</td>\n",
       "      <td>Z</td>\n",
       "    </tr>\n",
       "  </tbody>\n",
       "</table>\n",
       "<p>42000 rows × 2 columns</p>\n",
       "</div>"
      ],
      "text/plain": [
       "                                              file_paths labels\n",
       "0      E:/Documents/GitHub/Express-U/data/preprocesse...      1\n",
       "1      E:/Documents/GitHub/Express-U/data/preprocesse...      1\n",
       "2      E:/Documents/GitHub/Express-U/data/preprocesse...      1\n",
       "3      E:/Documents/GitHub/Express-U/data/preprocesse...      1\n",
       "4      E:/Documents/GitHub/Express-U/data/preprocesse...      1\n",
       "...                                                  ...    ...\n",
       "41995  E:/Documents/GitHub/Express-U/data/preprocesse...      Z\n",
       "41996  E:/Documents/GitHub/Express-U/data/preprocesse...      Z\n",
       "41997  E:/Documents/GitHub/Express-U/data/preprocesse...      Z\n",
       "41998  E:/Documents/GitHub/Express-U/data/preprocesse...      Z\n",
       "41999  E:/Documents/GitHub/Express-U/data/preprocesse...      Z\n",
       "\n",
       "[42000 rows x 2 columns]"
      ]
     },
     "execution_count": 3,
     "metadata": {},
     "output_type": "execute_result"
    }
   ],
   "source": [
    "df = pd.read_csv('E:/Documents/GitHub/Express-U/data/preprocessed/canny_labels.csv',index_col=False)\n",
    "df"
   ]
  },
  {
   "cell_type": "code",
   "execution_count": 4,
   "metadata": {},
   "outputs": [],
   "source": [
    "X_Train,X_Test = train_test_split(df,train_size=0.8,random_state=42,shuffle=True)\n"
   ]
  },
  {
   "cell_type": "code",
   "execution_count": 5,
   "metadata": {},
   "outputs": [],
   "source": [
    "Train_image_generator = ImageDataGenerator(rescale=1/255,\n",
    "                                        height_shift_range=0.1,\n",
    "                                        width_shift_range=0.1,\n",
    "                                        horizontal_flip=True,\n",
    "                                        zoom_range=0.5,\n",
    "                                        shear_range = 0.5,\n",
    "                                        brightness_range=[0.6,1.0],\n",
    "                                        rotation_range=15,\n",
    "                                        fill_mode = 'nearest',\n",
    "                                        validation_split=0.1)\n",
    "Test_image_generator = ImageDataGenerator(rescale=1/255)"
   ]
  },
  {
   "cell_type": "code",
   "execution_count": 6,
   "metadata": {},
   "outputs": [
    {
     "name": "stdout",
     "output_type": "stream",
     "text": [
      "Found 30240 validated image filenames belonging to 35 classes.\n",
      "Found 3360 validated image filenames belonging to 35 classes.\n",
      "Found 8400 validated image filenames belonging to 35 classes.\n"
     ]
    }
   ],
   "source": [
    "Train_Set = Train_image_generator.flow_from_dataframe(dataframe=X_Train,\n",
    "                                                  x_col=\"file_paths\",\n",
    "                                                  y_col=\"labels\",\n",
    "                                                  batch_size=32,\n",
    "                                                  class_mode=\"categorical\",\n",
    "                                                  color_mode = 'rgb',\n",
    "                                                  subset=\"training\")\n",
    "\n",
    "Validation_Set = Train_image_generator.flow_from_dataframe(dataframe=X_Train,\n",
    "                                                  x_col=\"file_paths\",\n",
    "                                                  y_col=\"labels\",\n",
    "                                                  batch_size=32,\n",
    "                                                  class_mode=\"categorical\",\n",
    "                                                  color_mode='rgb',\n",
    "                                                  subset=\"validation\")\n",
    "\n",
    "\n",
    "Test_Set = Test_image_generator.flow_from_dataframe(dataframe=X_Test,\n",
    "                                                  x_col=\"file_paths\",\n",
    "                                                  y_col=\"labels\",\n",
    "                                                  batch_size=32,\n",
    "                                                  class_mode=\"categorical\",\n",
    "                                                  color_mode='rgb',\n",
    "                                                  shuffle=False) "
   ]
  },
  {
   "cell_type": "code",
   "execution_count": 7,
   "metadata": {},
   "outputs": [
    {
     "data": {
      "text/plain": [
       "(256, 256, 3)"
      ]
     },
     "execution_count": 7,
     "metadata": {},
     "output_type": "execute_result"
    }
   ],
   "source": [
    "Train_Set.image_shape"
   ]
  },
  {
   "cell_type": "code",
   "execution_count": 8,
   "metadata": {},
   "outputs": [],
   "source": [
    "model = VGG16(input_shape=(256,256,3),include_top=False,weights='imagenet')"
   ]
  },
  {
   "cell_type": "code",
   "execution_count": 9,
   "metadata": {},
   "outputs": [],
   "source": [
    "classifier = model.output#head mode\n",
    "classifier = Flatten()(classifier)#adding layer of flatten\n",
    "classifier = Dense(units=256, activation='relu')(classifier)\n",
    "classifier = Dropout(0.6)(classifier)\n",
    "classifier = Dense(units=35, activation='softmax')(classifier)\n",
    "\n",
    "model = Model(inputs = model.input , outputs = classifier)\n",
    "model.compile(optimizer='adam', loss='categorical_crossentropy', metrics=['accuracy'])"
   ]
  },
  {
   "cell_type": "code",
   "execution_count": 10,
   "metadata": {},
   "outputs": [
    {
     "name": "stdout",
     "output_type": "stream",
     "text": [
      "Model: \"model\"\n",
      "_________________________________________________________________\n",
      "Layer (type)                 Output Shape              Param #   \n",
      "=================================================================\n",
      "input_1 (InputLayer)         [(None, 256, 256, 3)]     0         \n",
      "_________________________________________________________________\n",
      "block1_conv1 (Conv2D)        (None, 256, 256, 64)      1792      \n",
      "_________________________________________________________________\n",
      "block1_conv2 (Conv2D)        (None, 256, 256, 64)      36928     \n",
      "_________________________________________________________________\n",
      "block1_pool (MaxPooling2D)   (None, 128, 128, 64)      0         \n",
      "_________________________________________________________________\n",
      "block2_conv1 (Conv2D)        (None, 128, 128, 128)     73856     \n",
      "_________________________________________________________________\n",
      "block2_conv2 (Conv2D)        (None, 128, 128, 128)     147584    \n",
      "_________________________________________________________________\n",
      "block2_pool (MaxPooling2D)   (None, 64, 64, 128)       0         \n",
      "_________________________________________________________________\n",
      "block3_conv1 (Conv2D)        (None, 64, 64, 256)       295168    \n",
      "_________________________________________________________________\n",
      "block3_conv2 (Conv2D)        (None, 64, 64, 256)       590080    \n",
      "_________________________________________________________________\n",
      "block3_conv3 (Conv2D)        (None, 64, 64, 256)       590080    \n",
      "_________________________________________________________________\n",
      "block3_pool (MaxPooling2D)   (None, 32, 32, 256)       0         \n",
      "_________________________________________________________________\n",
      "block4_conv1 (Conv2D)        (None, 32, 32, 512)       1180160   \n",
      "_________________________________________________________________\n",
      "block4_conv2 (Conv2D)        (None, 32, 32, 512)       2359808   \n",
      "_________________________________________________________________\n",
      "block4_conv3 (Conv2D)        (None, 32, 32, 512)       2359808   \n",
      "_________________________________________________________________\n",
      "block4_pool (MaxPooling2D)   (None, 16, 16, 512)       0         \n",
      "_________________________________________________________________\n",
      "block5_conv1 (Conv2D)        (None, 16, 16, 512)       2359808   \n",
      "_________________________________________________________________\n",
      "block5_conv2 (Conv2D)        (None, 16, 16, 512)       2359808   \n",
      "_________________________________________________________________\n",
      "block5_conv3 (Conv2D)        (None, 16, 16, 512)       2359808   \n",
      "_________________________________________________________________\n",
      "block5_pool (MaxPooling2D)   (None, 8, 8, 512)         0         \n",
      "_________________________________________________________________\n",
      "flatten (Flatten)            (None, 32768)             0         \n",
      "_________________________________________________________________\n",
      "dense (Dense)                (None, 256)               8388864   \n",
      "_________________________________________________________________\n",
      "dropout (Dropout)            (None, 256)               0         \n",
      "_________________________________________________________________\n",
      "dense_1 (Dense)              (None, 35)                8995      \n",
      "=================================================================\n",
      "Total params: 23,112,547\n",
      "Trainable params: 23,112,547\n",
      "Non-trainable params: 0\n",
      "_________________________________________________________________\n"
     ]
    }
   ],
   "source": [
    "model.summary()"
   ]
  },
  {
   "cell_type": "code",
   "execution_count": 11,
   "metadata": {},
   "outputs": [
    {
     "data": {
      "text/plain": [
       "TensorShape([None, 256, 256, 3])"
      ]
     },
     "execution_count": 11,
     "metadata": {},
     "output_type": "execute_result"
    }
   ],
   "source": [
    "model.input.shape"
   ]
  },
  {
   "cell_type": "code",
   "execution_count": 12,
   "metadata": {},
   "outputs": [
    {
     "name": "stdout",
     "output_type": "stream",
     "text": [
      "Epoch 1/10\n",
      "8/8 [==============================] - 1041s 134s/step - loss: 5.1574 - accuracy: 0.0312 - val_loss: 3.5557 - val_accuracy: 0.0078\n",
      "Epoch 2/10\n",
      "8/8 [==============================] - 1053s 135s/step - loss: 3.6857 - accuracy: 0.0352 - val_loss: 3.5657 - val_accuracy: 0.0391\n",
      "Epoch 3/10\n",
      "8/8 [==============================] - 788s 102s/step - loss: 3.5848 - accuracy: 0.0352 - val_loss: 3.5942 - val_accuracy: 0.0234\n",
      "Epoch 4/10\n",
      "8/8 [==============================] - 790s 102s/step - loss: 3.5624 - accuracy: 0.0508 - val_loss: 3.5569 - val_accuracy: 0.0117\n",
      "Epoch 5/10\n",
      "8/8 [==============================] - 632s 81s/step - loss: 3.5550 - accuracy: 0.0195 - val_loss: 3.5550 - val_accuracy: 0.0352\n",
      "Epoch 6/10\n",
      "8/8 [==============================] - 620s 80s/step - loss: 3.5560 - accuracy: 0.0391 - val_loss: 3.5546 - val_accuracy: 0.0312\n",
      "Epoch 7/10\n",
      "8/8 [==============================] - 630s 81s/step - loss: 3.5545 - accuracy: 0.0469 - val_loss: 3.5564 - val_accuracy: 0.0234\n",
      "Epoch 8/10\n",
      "8/8 [==============================] - 611s 78s/step - loss: 3.5557 - accuracy: 0.0234 - val_loss: 3.5553 - val_accuracy: 0.0430\n",
      "Epoch 9/10\n"
     ]
    }
   ],
   "source": [
    "history = model.fit(Train_Set,epochs=10,steps_per_epoch=(Train_Set.image_shape[0] // 32),validation_steps=(Validation_Set.image_shape[0] // 32),batch_size=32,verbose=1,validation_data=Validation_Set)"
   ]
  },
  {
   "cell_type": "code",
   "execution_count": null,
   "metadata": {},
   "outputs": [],
   "source": [
    "model.evaluate(Test_Set,steps=(Test_Set.image_shape[0] // 32))"
   ]
  },
  {
   "cell_type": "code",
   "execution_count": null,
   "metadata": {},
   "outputs": [],
   "source": [
    "# model.save('model_vgg16.h5')\n",
    "# model.save_weights('model_vgg16_weights.h5')"
   ]
  }
 ],
 "metadata": {
  "interpreter": {
   "hash": "bd4c67ef142469da7dc4d338a32ac40116904d26076b8e6aa587d80720bc6a2b"
  },
  "kernelspec": {
   "display_name": "Python 3.9.6 64-bit",
   "language": "python",
   "name": "python3"
  },
  "language_info": {
   "codemirror_mode": {
    "name": "ipython",
    "version": 3
   },
   "file_extension": ".py",
   "mimetype": "text/x-python",
   "name": "python",
   "nbconvert_exporter": "python",
   "pygments_lexer": "ipython3",
   "version": "3.9.6"
  },
  "orig_nbformat": 4
 },
 "nbformat": 4,
 "nbformat_minor": 2
}
