{
 "cells": [
  {
   "cell_type": "code",
   "execution_count": 1,
   "metadata": {},
   "outputs": [],
   "source": [
    "import cv2\n",
    "import numpy as np\n",
    "import os\n",
    "from matplotlib import pyplot as plt\n",
    "import time\n",
    "import mediapipe as mp\n",
    "from segmentation import *"
   ]
  },
  {
   "cell_type": "code",
   "execution_count": 2,
   "metadata": {},
   "outputs": [],
   "source": [
    "cap = cv2.VideoCapture(0)\n",
    "\n",
    "with mp_holistic.Holistic(min_detection_confidence=0.5,min_tracking_confidence=0.5) as holistic:\n",
    "  while cap.isOpened():\n",
    "    ret,frame  = cap.read()\n",
    "    # frame = cv2.resize(frame,(800,600))\n",
    "\n",
    "    image,results = mediapipe_detection(frame,holistic)\n",
    "\n",
    "    draw_styled_landmarks(image,results)\n",
    "    cv2.imshow('result',cv2.flip(image,1))\n",
    "\n",
    "    if cv2.waitKey(10) & 0xFF == ord('q'):\n",
    "      break\n",
    "  cap.release()\n",
    "  cv2.destroyAllWindows()"
   ]
  },
  {
   "cell_type": "code",
   "execution_count": 12,
   "metadata": {},
   "outputs": [],
   "source": [
    "# test_result = extract_keypoints(results)[-10:]"
   ]
  },
  {
   "cell_type": "code",
   "execution_count": 13,
   "metadata": {},
   "outputs": [],
   "source": [
    "# np.save('test',test_result)"
   ]
  },
  {
   "cell_type": "code",
   "execution_count": 14,
   "metadata": {},
   "outputs": [],
   "source": [
    "# np.load('test.npy')"
   ]
  },
  {
   "cell_type": "code",
   "execution_count": 15,
   "metadata": {},
   "outputs": [],
   "source": [
    "DATA_PATH = 'E:\\Final Year Project\\Express-U\\data\\vid_dataset'\n",
    "\n",
    "actions = np.array(['hello','thanks','iloveyou'])\n",
    "\n",
    "no_of_sequences = 30\n",
    "\n",
    "sequence_length = 30"
   ]
  },
  {
   "cell_type": "markdown",
   "metadata": {},
   "source": [
    "Folder creation for training data"
   ]
  },
  {
   "cell_type": "code",
   "execution_count": 16,
   "metadata": {},
   "outputs": [],
   "source": [
    "for action in actions:\n",
    "  for sequence in range(no_of_sequences):\n",
    "    try:\n",
    "      os.makedirs(os.path.join(DATA_PATH,action,str(sequence)))\n",
    "    except:\n",
    "      pass"
   ]
  },
  {
   "cell_type": "markdown",
   "metadata": {},
   "source": [
    "Collecting Data for training"
   ]
  },
  {
   "cell_type": "code",
   "execution_count": 17,
   "metadata": {},
   "outputs": [],
   "source": [
    "cap = cv2.VideoCapture(0)\n",
    "\n",
    "with mp_holistic.Holistic(min_detection_confidence=0.5,min_tracking_confidence=0.5) as holistic:\n",
    "\n",
    "  for action in actions:\n",
    "    for sequence in range(no_of_sequences):\n",
    "      for frame_num in range(sequence_length):\n",
    "\n",
    "        ret,frame  = cap.read()\n",
    "        image,results = mediapipe_detection(frame,holistic)\n",
    "        draw_styled_landmarks(image,results)\n",
    "\n",
    "        if frame_num == 0:\n",
    "          cv2.putText(image,'STARTING COLLECTION',(120,200),cv2.FONT_HERSHEY_SIMPLEX,\n",
    "                      1,(0,255,0),1,cv2.LINE_AA)\n",
    "\n",
    "          cv2.putText(image,f'collectiong frames for {action} Video Number {sequence}',(15,12),cv2.FONT_HERSHEY_SIMPLEX,\n",
    "                      0.5,(0,0,255),1,cv2.LINE_AA)\n",
    "\n",
    "          cv2.imshow('result',image)\n",
    "\n",
    "\n",
    "          cv2.waitKey(2000)\n",
    "        else:\n",
    "          cv2.putText(image,f'collectiong frames for {action} Video Number {sequence}',(15,12),cv2.FONT_HERSHEY_SIMPLEX,\n",
    "                      0.5,(0,0,255),1,cv2.LINE_AA)\n",
    "\n",
    "          cv2.imshow('result',image)\n",
    "\n",
    "\n",
    "        keypoints = extract_keypoints(results)\n",
    "        npy_path = os.path.join(DATA_PATH,action,str(sequence),str(frame_num))\n",
    "        np.save(npy_path,keypoints)\n",
    "\n",
    "\n",
    "        if cv2.waitKey(10) & 0xFF == ord('q'):\n",
    "          break\n",
    "\n",
    "  cap.release()\n",
    "  cv2.destroyAllWindows()"
   ]
  }
 ],
 "metadata": {
  "interpreter": {
   "hash": "bd4c67ef142469da7dc4d338a32ac40116904d26076b8e6aa587d80720bc6a2b"
  },
  "kernelspec": {
   "display_name": "Python 3.9.6 64-bit",
   "language": "python",
   "name": "python3"
  },
  "language_info": {
   "codemirror_mode": {
    "name": "ipython",
    "version": 3
   },
   "file_extension": ".py",
   "mimetype": "text/x-python",
   "name": "python",
   "nbconvert_exporter": "python",
   "pygments_lexer": "ipython3",
   "version": "3.10.2"
  },
  "orig_nbformat": 4
 },
 "nbformat": 4,
 "nbformat_minor": 2
}
