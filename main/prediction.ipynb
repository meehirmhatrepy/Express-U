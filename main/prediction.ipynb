{
 "cells": [
  {
   "cell_type": "code",
   "execution_count": 1,
   "metadata": {},
   "outputs": [],
   "source": [
    "import cv2\n",
    "import numpy as np\n",
    "import os\n",
    "from matplotlib import pyplot as plt\n",
    "import time\n",
    "import mediapipe as mp\n",
    "from segmentation import *\n",
    "from model import *"
   ]
  },
  {
   "cell_type": "code",
   "execution_count": 2,
   "metadata": {},
   "outputs": [],
   "source": [
    "model.load_weights('actions.h5')"
   ]
  },
  {
   "cell_type": "code",
   "execution_count": 3,
   "metadata": {},
   "outputs": [],
   "source": [
    "from sklearn.metrics import multilabel_confusion_matrix,accuracy_score\n",
    "\n",
    "yhat = model.predict(X_train)\n",
    "\n",
    "ytrue = np.argmax(y_train,axis=1).tolist()\n",
    "yhat = np.argmax(yhat,axis=1).tolist()\n"
   ]
  },
  {
   "cell_type": "code",
   "execution_count": 4,
   "metadata": {},
   "outputs": [
    {
     "data": {
      "text/plain": [
       "array([[[56,  2],\n",
       "        [ 1, 26]],\n",
       "\n",
       "       [[56,  0],\n",
       "        [ 0, 29]],\n",
       "\n",
       "       [[55,  1],\n",
       "        [ 2, 27]]], dtype=int64)"
      ]
     },
     "execution_count": 4,
     "metadata": {},
     "output_type": "execute_result"
    }
   ],
   "source": [
    "multilabel_confusion_matrix(ytrue,yhat)"
   ]
  },
  {
   "cell_type": "code",
   "execution_count": 5,
   "metadata": {},
   "outputs": [
    {
     "data": {
      "text/plain": [
       "0.9647058823529412"
      ]
     },
     "execution_count": 5,
     "metadata": {},
     "output_type": "execute_result"
    }
   ],
   "source": [
    "accuracy_score(ytrue,yhat)"
   ]
  },
  {
   "cell_type": "code",
   "execution_count": 6,
   "metadata": {},
   "outputs": [],
   "source": [
    "DATA_PATH = 'E:\\\\Final Year Project\\\\Express-U\\data\\\\vid_dataset'\n",
    "\n",
    "actions = np.array(['hello','thanks','iloveyou'])\n",
    "\n",
    "no_of_sequences = 30\n",
    "\n",
    "sequence_length = 30"
   ]
  },
  {
   "cell_type": "code",
   "execution_count": null,
   "metadata": {},
   "outputs": [],
   "source": [
    "label_map = {label:num for num,label in enumerate(actions)}\n",
    "sequences,labels = [],[]\n",
    "for action in actions:\n",
    "  for sequence in range(no_of_sequences):\n",
    "    window = []\n",
    "    for frame_num in range(sequence_length):\n",
    "      res = np.load(os.path.join(DATA_PATH,action,str(sequence),f'{frame_num}.npy'))\n",
    "      window.append(res)\n",
    "    sequences.append(window)\n",
    "    labels.append(label_map[action])"
   ]
  },
  {
   "cell_type": "code",
   "execution_count": 7,
   "metadata": {},
   "outputs": [],
   "source": [
    "sequence = []\n",
    "sentence = []\n",
    "predictions = []\n",
    "threshold = 0.8\n",
    "colors = [(245,117,16),(117,245,16),(16,117,245)]\n",
    "\n",
    "cap = cv2.VideoCapture(0)\n",
    "\n",
    "with mp_holistic.Holistic(min_detection_confidence=0.5,min_tracking_confidence=0.5) as holistic:\n",
    "  while cap.isOpened():\n",
    "    ret,frame  = cap.read()\n",
    "    # frame = cv2.resize(frame,(800,600))\n",
    "\n",
    "    image,results = mediapipe_detection(frame,holistic)\n",
    "\n",
    "    draw_styled_landmarks(image,results)\n",
    "\n",
    "    keypoints = extract_keypoints(results)\n",
    "    sequence.append(keypoints)\n",
    "    sequence = sequence[-30:]\n",
    "\n",
    "    if len(sequence) == 30:\n",
    "      res = model.predict(np.expand_dims(sequence,axis=0))[0]\n",
    "      # print(actions[np.argmax(res)])\n",
    "      predictions.append(np.argmax(res))\n",
    "\n",
    "      if np.unique(predictions[-10:])[0] == np.argmax(res):\n",
    "        if res[np.argmax(res)] > threshold:\n",
    "\n",
    "          if len(sentence) > 0:\n",
    "            if actions[np.argmax(res)] != sentence[-1]:\n",
    "              sentence.append(actions[np.argmax(res)])\n",
    "          else:\n",
    "              sentence.append(actions[np.argmax(res)])\n",
    "      \n",
    "      if len(sentence) > 5:\n",
    "        sentence = sentence[-5:]\n",
    "      \n",
    "      image = prob_viz(res,actions,image,colors)\n",
    "\n",
    "    cv2.rectangle(image,(0,0),(640,40),(245,117,16),-1)\n",
    "    cv2.putText(image,\" \".join(sentence),(3,25),cv2.FONT_HERSHEY_SIMPLEX,1,(255,255,255),2,cv2.LINE_AA)\n",
    "\n",
    "    cv2.imshow('result',image)\n",
    "\n",
    "    if cv2.waitKey(10) & 0xFF == ord('q'):\n",
    "      break\n",
    "  cap.release()\n",
    "  cv2.destroyAllWindows()"
   ]
  },
  {
   "cell_type": "code",
   "execution_count": 8,
   "metadata": {},
   "outputs": [
    {
     "data": {
      "text/plain": [
       "['hello', 'iloveyou', 'thanks', 'iloveyou', 'thanks']"
      ]
     },
     "execution_count": 8,
     "metadata": {},
     "output_type": "execute_result"
    }
   ],
   "source": [
    "sentence"
   ]
  },
  {
   "cell_type": "code",
   "execution_count": 9,
   "metadata": {},
   "outputs": [
    {
     "data": {
      "text/plain": [
       "False"
      ]
     },
     "execution_count": 9,
     "metadata": {},
     "output_type": "execute_result"
    }
   ],
   "source": [
    "np.unique(predictions[-10:])[0] == np.argmax(res)"
   ]
  },
  {
   "cell_type": "code",
   "execution_count": null,
   "metadata": {},
   "outputs": [],
   "source": []
  }
 ],
 "metadata": {
  "interpreter": {
   "hash": "a8a3b870b663af00ffaf2965646e614892b3bc390a9f2eaaf38e9628c0376dcf"
  },
  "kernelspec": {
   "display_name": "Python 3.8.8 64-bit ('base': conda)",
   "language": "python",
   "name": "python3"
  },
  "language_info": {
   "codemirror_mode": {
    "name": "ipython",
    "version": 3
   },
   "file_extension": ".py",
   "mimetype": "text/x-python",
   "name": "python",
   "nbconvert_exporter": "python",
   "pygments_lexer": "ipython3",
   "version": "3.10.2"
  },
  "orig_nbformat": 4
 },
 "nbformat": 4,
 "nbformat_minor": 2
}
